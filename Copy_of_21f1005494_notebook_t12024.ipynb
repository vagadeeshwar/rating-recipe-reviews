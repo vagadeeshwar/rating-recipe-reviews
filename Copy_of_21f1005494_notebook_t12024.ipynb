{
  "cells": [
    {
      "cell_type": "markdown",
      "metadata": {
        "id": "g7cCcge8pVU3"
      },
      "source": [
        "# Initialization Codes"
      ]
    },
    {
      "cell_type": "code",
      "execution_count": 5,
      "metadata": {
        "colab": {
          "base_uri": "https://localhost:8080/"
        },
        "execution": {
          "iopub.execute_input": "2024-04-07T18:48:31.229156Z",
          "iopub.status.busy": "2024-04-07T18:48:31.228729Z",
          "iopub.status.idle": "2024-04-07T18:48:31.662329Z",
          "shell.execute_reply": "2024-04-07T18:48:31.661236Z",
          "shell.execute_reply.started": "2024-04-07T18:48:31.229118Z"
        },
        "id": "58GlbXfsJEBH",
        "outputId": "751825c4-ef93-49a5-999c-39c82f8c690d",
        "trusted": true
      },
      "outputs": [],
      "source": [
        "# This Python 3 environment comes with many helpful analytics libraries installed\n",
        "# It is defined by the kaggle/python Docker image: https://github.com/kaggle/docker-python\n",
        "# For example, here's several helpful packages to load\n",
        "\n",
        "import numpy as np # linear algebra\n",
        "import pandas as pd # data processing, CSV file I/O (e.g. pd.read_csv)\n",
        "import matplotlib.pyplot as plt\n",
        "\n",
        "# Input data files are available in the read-only \"../input/\" directory\n",
        "# For example, running this (by clicking run or pressing Shift+Enter) will list all files under the input directory\n",
        "\n",
        "# import os\n",
        "# for dirname, _, filenames in os.walk('/kaggle/input'):\n",
        "#     for filename in filenames:\n",
        "#         print(os.path.join(dirname, filename))\n",
        "\n",
        "# You can write up to 20GB to the current directory (/kaggle/working/) that gets preserved as output when you create a version using \"Save & Run All\"\n",
        "# You can also write temporary files to /kaggle/temp/, but they won't be saved outside of the current session"
      ]
    },
    {
      "cell_type": "code",
      "execution_count": 6,
      "metadata": {
        "execution": {
          "iopub.execute_input": "2024-04-07T18:48:33.852939Z",
          "iopub.status.busy": "2024-04-07T18:48:33.851924Z",
          "iopub.status.idle": "2024-04-07T18:48:34.103053Z",
          "shell.execute_reply": "2024-04-07T18:48:34.102241Z",
          "shell.execute_reply.started": "2024-04-07T18:48:33.852894Z"
        },
        "id": "xkfdiZfmJEBI",
        "trusted": true
      },
      "outputs": [],
      "source": [
        "# Read the data\n",
        "X_full = pd.read_csv('train.csv', index_col='ID')\n",
        "X_test = pd.read_csv('test.csv', index_col='ID')\n",
        "\n",
        "y=X_full.Rating\n",
        "X=X_full.drop(\"Rating\",axis=1)\n",
        "\n",
        "# Reconfiguring indexes\n",
        "\n",
        "X1 = X.reset_index(drop=True)\n",
        "y1 = y.reset_index(drop=True)\n",
        "X_test = X_test.reset_index(drop=True)"
      ]
    },
    {
      "cell_type": "code",
      "execution_count": 7,
      "metadata": {
        "execution": {
          "iopub.execute_input": "2024-04-07T18:48:34.282374Z",
          "iopub.status.busy": "2024-04-07T18:48:34.281379Z",
          "iopub.status.idle": "2024-04-07T18:48:34.295582Z",
          "shell.execute_reply": "2024-04-07T18:48:34.294487Z",
          "shell.execute_reply.started": "2024-04-07T18:48:34.282328Z"
        },
        "id": "sNDJsfU2wrE1",
        "trusted": true
      },
      "outputs": [],
      "source": [
        "# Null Value Removal\n",
        "X1.dropna(subset=[\"Recipe_Review\"],inplace=True)\n",
        "y1=y1.iloc[X1.index]\n",
        "\n",
        "X1.reset_index(drop=True,inplace=True)\n",
        "y1.reset_index(drop=True,inplace=True)"
      ]
    },
    {
      "cell_type": "markdown",
      "metadata": {
        "id": "ppv7cNoZJEBJ"
      },
      "source": [
        "# EDA"
      ]
    },
    {
      "cell_type": "code",
      "execution_count": null,
      "metadata": {
        "id": "43IVn8iMJEBK"
      },
      "outputs": [],
      "source": [
        "X.shape"
      ]
    },
    {
      "cell_type": "code",
      "execution_count": null,
      "metadata": {
        "id": "SHcUPcdGJEBK"
      },
      "outputs": [],
      "source": [
        "X.head()"
      ]
    },
    {
      "cell_type": "code",
      "execution_count": null,
      "metadata": {
        "id": "upkcrWVUJEBL"
      },
      "outputs": [],
      "source": [
        "X.info()"
      ]
    },
    {
      "cell_type": "code",
      "execution_count": null,
      "metadata": {
        "id": "xaODuD8VJEBL"
      },
      "outputs": [],
      "source": [
        "y.value_counts()"
      ]
    },
    {
      "cell_type": "code",
      "execution_count": null,
      "metadata": {
        "id": "8DGG1rr-JEBL"
      },
      "outputs": [],
      "source": [
        "X.isnull().sum()"
      ]
    },
    {
      "cell_type": "code",
      "execution_count": null,
      "metadata": {
        "id": "29Lk2vIWJEBM"
      },
      "outputs": [],
      "source": [
        "X.index.value_counts()"
      ]
    },
    {
      "cell_type": "code",
      "execution_count": null,
      "metadata": {
        "id": "-wyIP8LrJEBM"
      },
      "outputs": [],
      "source": [
        "X.groupby('RecipeNumber')['RecipeCode'].count()"
      ]
    },
    {
      "cell_type": "code",
      "execution_count": null,
      "metadata": {
        "id": "pMRMvWUuJEBM"
      },
      "outputs": [],
      "source": [
        "X.describe()"
      ]
    },
    {
      "cell_type": "code",
      "execution_count": null,
      "metadata": {
        "id": "LddUbUu8JEBN"
      },
      "outputs": [],
      "source": [
        "X.UserReputation.value_counts()"
      ]
    },
    {
      "cell_type": "code",
      "execution_count": null,
      "metadata": {
        "id": "GPgVF-89JEBN"
      },
      "outputs": [],
      "source": [
        "X.ReplyCount.value_counts()"
      ]
    },
    {
      "cell_type": "code",
      "execution_count": null,
      "metadata": {
        "id": "ZdbRgRrJJEBN"
      },
      "outputs": [],
      "source": [
        "X.BestScore.value_counts()"
      ]
    },
    {
      "cell_type": "code",
      "execution_count": null,
      "metadata": {
        "id": "hqGleeefJEBN"
      },
      "outputs": [],
      "source": [
        "X.hist()"
      ]
    },
    {
      "cell_type": "code",
      "execution_count": null,
      "metadata": {
        "id": "NtNVdI0-JEBN"
      },
      "outputs": [],
      "source": [
        "plt.scatter(X.BestScore,y)"
      ]
    },
    {
      "cell_type": "markdown",
      "metadata": {
        "id": "HwgHUeK9JEBN"
      },
      "source": [
        "* 2 null in Recipe_Review\n",
        "* X has duplicate IDs(index)... Comment ID performs like an index instead\n",
        "* Multiple recipe codes present in same recipe number(ranking 1-100)"
      ]
    },
    {
      "cell_type": "markdown",
      "metadata": {
        "id": "TXhrGJBQEtCI"
      },
      "source": [
        "# Text Analysis and Cleaning"
      ]
    },
    {
      "cell_type": "code",
      "execution_count": 11,
      "metadata": {
        "execution": {
          "iopub.execute_input": "2024-04-07T18:48:37.973895Z",
          "iopub.status.busy": "2024-04-07T18:48:37.973513Z",
          "iopub.status.idle": "2024-04-07T18:48:38.001883Z",
          "shell.execute_reply": "2024-04-07T18:48:38.000884Z",
          "shell.execute_reply.started": "2024-04-07T18:48:37.973864Z"
        },
        "id": "qTT2KZ_ikXZu",
        "trusted": true
      },
      "outputs": [],
      "source": [
        "import re\n",
        "\n",
        "# pattern_presence = pd.DataFrame(index=X.index, columns=patterns.keys())\n",
        "\n",
        "# for pattern_name, pattern in patterns.items():\n",
        "#     pattern_presence[pattern_name] = X.str.contains(pattern).astype(int)\n",
        "\n",
        "# num_dict={col:sum(pattern_presence[col]) for col in pattern_presence.columns}\n",
        "\n",
        "# pattern_presence\n",
        "# num_dict\n",
        "\n",
        "# emoji_counts = X.str.findall(patterns['emoji_pattern']).explode().value_counts()\n",
        "# out_of_ascii_counts = X.str.findall(patterns['out_of_ascii']).explode().value_counts()\n",
        "# emoticons = X.str.findall(patterns['emoticons']).explode().value_counts()\n",
        "# entities = X.str.findall(patterns['html_entities']).explode().value_counts()\n",
        "# # hanging = X.str.findall(patterns['hanging_parantheses']).explode().value_counts()\n",
        "\n",
        "# print(\"Emoji Counts:\")\n",
        "# print(emoji_counts)\n",
        "# print(\"\\nOut of ASCII Counts:\")\n",
        "# print(out_of_ascii_counts)\n",
        "# print(\"\\nEmoticons:\")\n",
        "# print(emoticons)\n",
        "# print(\"\\nEntities:\")\n",
        "# print(entities)\n",
        "# # print(\"\\nHanging Parantheses:\")\n",
        "# # print(hanging)\n",
        "\n",
        "# pattern_presence = pd.DataFrame(index=X.index, columns=patterns.keys())\n",
        "\n",
        "# for pattern_name, pattern in patterns.items():\n",
        "#     pattern_presence[pattern_name] = X.str.contains(pattern).astype(int)\n",
        "\n",
        "# num_dict={col:sum(pattern_presence[col]) for col in pattern_presence.columns}\n",
        "\n",
        "# pattern_presence\n",
        "# num_dict\n",
        "\n",
        "# emoji_counts = X.str.findall(patterns['emoji_pattern']).explode().value_counts()\n",
        "# out_of_ascii_counts = X.str.findall(patterns['out_of_ascii']).explode().value_counts()\n",
        "# emoticons = X.str.findall(patterns['emoticons']).explode().value_counts()\n",
        "# entities = X.str.findall(patterns['html_entities']).explode().value_counts()\n",
        "# # hanging = X.str.findall(patterns['hanging_parantheses']).explode().value_counts()\n",
        "\n",
        "# print(\"Emoji Counts:\")\n",
        "# print(emoji_counts)\n",
        "# print(\"\\nOut of ASCII Counts:\")\n",
        "# print(out_of_ascii_counts)\n",
        "# print(\"\\nEmoticons:\")\n",
        "# print(emoticons)\n",
        "# print(\"\\nEntities:\")\n",
        "# print(entities)\n",
        "# # print(\"\\nHanging Parantheses:\")\n",
        "# # print(hanging)\n",
        "\n",
        "def replace_patterns(X):\n",
        "\n",
        "    patterns = {\n",
        "        'html_entities': r'&[a-zA-Z0-9]+;|&#[a-zA-Z0-9]+;',\n",
        "        'urls': r'https?://\\S+',\n",
        "        'email_addresses': r'\\b[A-Za-z0-9._%+-]+@[A-Za-z0-9.-]+\\.[A-Z|a-z]{2,}\\b',\n",
        "        'html_tags': r'<.*>|</.*>|<.*>(.*?)</.*>',\n",
        "        'whitespace_pattern': r'\\s\\s+',\n",
        "        'emoji_pattern': r'[\\U0001F600-\\U0001F64F\\U0001F300-\\U0001F5FF\\U0001F680-\\U0001F6FF\\U0001F700-\\U0001F77F\\U0001F780-\\U0001F7FF\\U0001F800-\\U0001F8FF\\U0001F900-\\U0001F9FF\\U0001FA00-\\U0001FA6F\\U0001FA70-\\U0001FAFF\\U00002702-\\U000027B0]+|[\\U0001F1E0-\\U0001F1FF]{2}|\\u200d',\n",
        "        'emoticons': r'(?::|;|=)(?:-)?(?:\\)|\\(|D|P)',\n",
        "        'out_of_ascii': r'[^\\x00-\\x7F]+'\n",
        "    }\n",
        "\n",
        "    replacements = {\n",
        "        \"'\": \"'\",\n",
        "        \"\"\": '\"',\n",
        "        \"\"\": '\"',\n",
        "        \"é\": \"e\",\n",
        "        \"×\": \"x\",\n",
        "        \"ñ\": \"n\",\n",
        "        \"è\": \"e\",\n",
        "        \"â\": \"a\",\n",
        "        \"½\": \"0.5\",\n",
        "        \"¼\": \"0.25\",\n",
        "        \"⅛\": \"0.125\",\n",
        "        \"'\": \"'\",\n",
        "        \"´\": \"'\",\n",
        "        r\"[:;][o0]\\)?\": \" \",\n",
        "        r\"\\.\\.*\": \", \",\n",
        "        r\"!!*\": \"!\",\n",
        "        r\"--*\": \"-\",\n",
        "        r\",,*\": \",\",\n",
        "        r\"^re:\": \"\",\n",
        "        r\"\\?\\?*\": \"?\",\n",
        "        r\"(?<!\\\\)([_\\*~])[\\s\\S]*?\\1\": \"\",\n",
        "        \"&#39;\": \"'\",\n",
        "        \"&amp;\": \"&\",\n",
        "        \"&gt;\": \" \",\n",
        "        \"&lt;\": \" \",\n",
        "        \"&#34;\": '\"'\n",
        "    }\n",
        "\n",
        "    contractions = {\n",
        "        r\"\\bain't\\b\": \"am not\",\n",
        "        r\"\\baren't\\b\": \"are not\",\n",
        "        r\"\\bcan't\\b\": \"can not\",\n",
        "        r\"\\bcouldn't\\b\": \"could not\",\n",
        "        r\"\\bdidn't\\b\": \"did not\",\n",
        "        r\"\\bdoesn't\\b\": \"does not\",\n",
        "        r\"\\bdon't\\b\": \"do not\",\n",
        "        r\"\\bhadn't\\b\": \"had not\",\n",
        "        r\"\\bhasn't\\b\": \"has not\",\n",
        "        r\"\\bhaven't\\b\": \"have not\",\n",
        "        r\"\\bhe'd\\b\": \"he would\",\n",
        "        r\"\\bhe'll\\b\": \"he will\",\n",
        "        r\"\\bhe's\\b\": \"he is\",\n",
        "        r\"\\bi'd\\b\": \"i would\",\n",
        "        r\"\\bi'll\\b\": \"i will\",\n",
        "        r\"\\bi'm\\b\": \"i am\",\n",
        "        r\"\\bi've\\b\": \"i have\",\n",
        "        r\"\\bisn't\\b\": \"is not\",\n",
        "        r\"\\bit's\\b\": \"it is\",\n",
        "        r\"\\blet's\\b\": \"let us\",\n",
        "        r\"\\bma'am\\b\": \"madam\",\n",
        "        r\"\\bmayn't\\b\": \"may not\",\n",
        "        r\"\\bmight've\\b\": \"might have\",\n",
        "        r\"\\bmightn't\\b\": \"might not\",\n",
        "        r\"\\bmust've\\b\": \"must have\",\n",
        "        r\"\\bmustn't\\b\": \"must not\",\n",
        "        r\"\\bshan't\\b\": \"shall not\",\n",
        "        r\"\\bshe'd\\b\": \"she would\",\n",
        "        r\"\\bshe'll\\b\": \"she will\",\n",
        "        r\"\\bshe's\\b\": \"she is\",\n",
        "        r\"\\bshould've\\b\": \"should have\",\n",
        "        r\"\\bshouldn't\\b\": \"should not\",\n",
        "        r\"\\bthat's\\b\": \"that is\",\n",
        "        r\"\\bthere's\\b\": \"there is\",\n",
        "        r\"\\bthey'd\\b\": \"they would\",\n",
        "        r\"\\bthey'll\\b\": \"they will\",\n",
        "        r\"\\bthey're\\b\": \"they are\",\n",
        "        r\"\\bthey've\\b\": \"they have\",\n",
        "        r\"\\bwasn't\\b\": \"was not\",\n",
        "        r\"\\bwe'd\\b\": \"we would\",\n",
        "        r\"\\bwe'll\\b\": \"we will\",\n",
        "        r\"\\bwe're\\b\": \"we are\",\n",
        "        r\"\\bwe've\\b\": \"we have\",\n",
        "        r\"\\bweren't\\b\": \"were not\",\n",
        "        r\"\\bwhat'll\\b\": \"what will\",\n",
        "        r\"\\bwhat're\\b\": \"what are\",\n",
        "        r\"\\bwhat's\\b\": \"what is\",\n",
        "        r\"\\bwhat've\\b\": \"what have\",\n",
        "        r\"\\bwhere's\\b\": \"where is\",\n",
        "        r\"\\bwho'll\\b\": \"who will\",\n",
        "        r\"\\bwho's\\b\": \"who is\",\n",
        "        r\"\\bwon't\\b\": \"will not\",\n",
        "        r\"\\bwould've\\b\": \"would have\",\n",
        "        r\"\\bwouldn't\\b\": \"would not\",\n",
        "        r\"\\byou'd\\b\": \"you would\",\n",
        "        r\"\\byou'll\\b\": \"you will\",\n",
        "        r\"\\byou're\\b\": \"you are\",\n",
        "        r\"\\byou've\\b\": \"you have\"\n",
        "    }\n",
        "\n",
        "    custom_stop_words = {\n",
        "        r\"\\badded\\b\": \"add\",\n",
        "        r\"\\bcups\\b\": \"cup\",\n",
        "        r\"\\bloved\\b\": \"love\",\n",
        "        r\"\\bloves\\b\": \"love\",\n",
        "        r\"\\bliked\\b\": \"like\",\n",
        "        r\"\\brecipes\\b\": \"recipe\",\n",
        "        r\"\\bthanks\\b\": \"thank\",\n",
        "        r\"\\btasty\\b\": \"taste\",\n",
        "        r\"\\bcooked\\b\": \"cook\",\n",
        "        r\"\\badding\\b\": \"add\",\n",
        "        r\"\\bmade\\b\": \"make\",\n",
        "        r\"\\bmaking\\b\": \"make\",\n",
        "        r\"\\bmakes\\b\": \"make\",\n",
        "        r\"\\bthought\\b\": \"think\",\n",
        "        r\"\\btimes\\b\": \"time\",\n",
        "        r\"\\btried\\b\": \"try\",\n",
        "        r\"\\bused\\b\":\"use\",\n",
        "    }\n",
        "\n",
        "    X = X.str.lower()\n",
        "\n",
        "    X = X.str.replace(patterns['emoji_pattern'], \" \", regex=True)\n",
        "    X = X.str.replace(patterns['emoticons'], \" \", regex=True)\n",
        "    X = X.str.replace(patterns['out_of_ascii'], \" \", regex=True)\n",
        "    X = X.str.replace(patterns['html_tags'], \" \", regex=True)\n",
        "    X = X.str.replace(patterns['urls'], \" \", regex=True)\n",
        "    X = X.str.replace(patterns['email_addresses'], \" \", regex=True)\n",
        "\n",
        "    my_punct = ['!', '\"', '#', '$', '%', '&', \"'\", '(', ')', '*', '+', ',', '.',\n",
        "        '/', ':', ';', '<', '=', '>', '?', '@', '[', '\\\\', ']', '^', '_',\n",
        "        '`', '{', '|', '}', '~', '»', '«', '“', '”']\n",
        "\n",
        "\n",
        "    X = X.replace(replacements, regex=True)\n",
        "    X = X.replace(contractions, regex=True)\n",
        "\n",
        "    punct_pattern = re.compile(\"[\" + re.escape(\"\".join(my_punct)) + \"]\")\n",
        "    X=X.apply(lambda x:re.sub(punct_pattern, \"\", x))\n",
        "    X = X.replace(custom_stop_words, regex=True)\n",
        "    with open('stopwords.txt', 'r') as file:\n",
        "        stopwords = file.read().splitlines()\n",
        "\n",
        "\n",
        "    stopwords_pattern = re.compile(r'\\b(' + r'|'.join(stopwords) + r')\\b\\s*')\n",
        "    X = X.str.replace(stopwords_pattern, '', regex=True)\n",
        "\n",
        "    X = X.str.replace(patterns['whitespace_pattern'], \" \", regex=True)\n",
        "\n",
        "    return X"
      ]
    },
    {
      "cell_type": "markdown",
      "metadata": {
        "id": "oR5W2S1TfyzN"
      },
      "source": [
        "{'html_entities': 5010,\n",
        " 'urls': 26,\n",
        " 'email_addresses': 6,\n",
        " 'html_tags': 81,\n",
        " 'whitespace_pattern': 6291,\n",
        " 'emoji_pattern': 15,\n",
        " 'emoticons': 328,\n",
        " 'out_of_ascii': 594}\n",
        "\n",
        "Emoji Counts:\n",
        "Recipe_Review\n",
        "😋      3\n",
        "❤      2\n",
        "😍      2\n",
        "‍      2\n",
        "😋❤🤗    1\n",
        "🙄🤦🏽    1\n",
        "🥰🥰🥰    1\n",
        "🥰      1\n",
        "🤗      1\n",
        "😅      1\n",
        "😝      1\n",
        "🙄😑     1\n",
        "🤣      1\n",
        "🤦      1\n",
        "Name: count, dtype: int64\n",
        "\n",
        "Out of ASCII Counts:\n",
        "Recipe_Review\n",
        "’          711\n",
        "           156\n",
        "“           79\n",
        "”           76\n",
        "é           42\n",
        "°           16\n",
        "…           12\n",
        "—            7\n",
        "ñ            7\n",
        "             5\n",
        "½            5\n",
        "¼            4\n",
        "‘            4\n",
        "😋            3\n",
        "è            3\n",
        "❤️           2\n",
        "º            2\n",
        "😍            2\n",
        "â            2\n",
        "😅            1\n",
        "😝            1\n",
        "🙄😑           1\n",
        "–            1\n",
        "⅛            1\n",
        "🤣            1\n",
        "🤦‍♀️         1\n",
        "🥰            1\n",
        "🤗            1\n",
        "•            1\n",
        "🥰🥰🥰          1\n",
        "🙄🤦🏽‍♀️       1\n",
        "😋❤🤗          1\n",
        "☺️           1\n",
        "´¯           1\n",
        "¸¸           1\n",
        "             1\n",
        "×            1\n",
        "´            1\n",
        "Name: count, dtype: int64\n",
        "\n",
        "Emoticons:\n",
        "Recipe_Review\n",
        ":)     243\n",
        ":-)     40\n",
        ";)      29\n",
        ":(      19\n",
        "=)       8\n",
        ";-)      7\n",
        "Name: count, dtype: int64\n",
        "\n",
        "Entities:\n",
        "Recipe_Review\n",
        "&#39;    7209\n",
        "&#34;    1342\n",
        "&amp;     775\n",
        "&gt;        8\n",
        "&lt;        7\n",
        "Name: count, dtype: int64"
      ]
    },
    {
      "cell_type": "code",
      "execution_count": 9,
      "metadata": {
        "execution": {
          "iopub.execute_input": "2024-04-07T18:48:40.511743Z",
          "iopub.status.busy": "2024-04-07T18:48:40.510895Z",
          "iopub.status.idle": "2024-04-07T18:48:41.046992Z",
          "shell.execute_reply": "2024-04-07T18:48:41.046164Z",
          "shell.execute_reply.started": "2024-04-07T18:48:40.511708Z"
        },
        "id": "8MkR1yrC_T3d",
        "trusted": true
      },
      "outputs": [],
      "source": [
        "from sklearn.base import TransformerMixin, BaseEstimator\n",
        "from sklearn.feature_extraction.text import TfidfVectorizer\n",
        "import string\n",
        "\n",
        "# Estimator TfidfTransformer should store all parameters as an attribute during init.\n",
        "#Please remember all these comments when you do another ml project... every one of these took hours to debug!\n",
        "\n",
        "class TfidfTransformer(TransformerMixin, BaseEstimator):\n",
        "    def __init__(self, ngram_range=(1, 1), max_features=100):\n",
        "        self.max_features=max_features\n",
        "        self.ngram_range=ngram_range\n",
        "        self.vectorizer = TfidfVectorizer(stop_words=None, lowercase=False, strip_accents=None, ngram_range=self.ngram_range, max_features=self.max_features)\n",
        "\n",
        "    def fit(self, X, y=None):\n",
        "        self.vectorizer.fit(X.squeeze())\n",
        "        return self\n",
        "\n",
        "    def transform(self, X, y=None):\n",
        "        return self.vectorizer.transform(X.squeeze())\n",
        "\n",
        "    def get_feature_names_out(self, input_features=None):\n",
        "        print(self.vectorizer.get_feature_names_out())\n",
        "        return self.vectorizer.get_feature_names_out()\n",
        "\n",
        "# Use this to check correctness but don't take it too seriously.. solve error one by one and then again check if custom transformer works\n",
        "\n",
        "# from sklearn.utils.estimator_checks import check_estimator\n",
        "# check_estimator(TfidfTransformer())"
      ]
    },
    {
      "cell_type": "code",
      "execution_count": 12,
      "metadata": {
        "execution": {
          "iopub.execute_input": "2024-04-07T18:48:41.736167Z",
          "iopub.status.busy": "2024-04-07T18:48:41.735791Z",
          "iopub.status.idle": "2024-04-07T18:48:54.734214Z",
          "shell.execute_reply": "2024-04-07T18:48:54.73307Z",
          "shell.execute_reply.started": "2024-04-07T18:48:41.736136Z"
        },
        "id": "rC_Evl0wWbK-",
        "trusted": true
      },
      "outputs": [],
      "source": [
        "# HAVING REPLACE INSIDE OF PIPELINE AND RUNNING IT EVERYTIME DURING CV IS USELESS AS REPLACE CODE IS FIXED AND IT HAS NOTHING TO LEARN FROM THE INDIVIDUAL CV SPLITS\n",
        "X2=X1.copy(deep=True)\n",
        "X2.Recipe_Review=replace_patterns(X1.Recipe_Review)\n",
        "y2=y1"
      ]
    },
    {
      "cell_type": "markdown",
      "metadata": {
        "id": "CWTHbHohzQ0v"
      },
      "source": [
        "# Pipelines"
      ]
    },
    {
      "cell_type": "markdown",
      "metadata": {
        "id": "rUy35uGVJEBN"
      },
      "source": [
        "<ul>\n",
        "<li>RecipeName: Name of the recipe the comment was posted on -> <b>Dropped</b> </li>\n",
        "<li>CommentID: Unique ID of the comment -> <b>Dropped</b> </li>\n",
        "<li>UserName: Name of the user -> <b>Dropped</b> </li>\n",
        "</ul>\n",
        "\n",
        "<ul>\n",
        "    <li>RecipeNumber: Placement of the recipe on the top 100 recipes list -> <b>Not used</b> </li>\n",
        "<li>RecipeCode: Unique ID of the recipe used by the site -> <b>Not used</b> </li>\n",
        "<li>UserID: Unique ID of the user who left the comment -> <b>Not used</b></li>\n",
        "    <li>CreationTimestamp: Time at which the comment was posted as a Unix timestamp -> <b>Not used</b></li>\n",
        "    <li>BestScore: Score of the comment, likely used by the site to help determine the order comments appear in -> <b>Not used</b></li>\n",
        "</ul>\n",
        "\n",
        "<ul>\n",
        "<li>UserReputation: Internal score of the site, roughly quantifying the past behavior of the user </li>\n",
        "<li>ReplyCount: Number of replies to the comment</li>\n",
        "<li>ThumbsUpCount: Number of up-votes the comment has received</li>\n",
        "<li>ThumbsDownCount: Number of down-votes the comment has received</li>\n",
        "    <li>Recipe_Review: Text content of the comment</li>\n",
        "    </ul>\n",
        "    \n",
        "* Rating: The score on a 1 to 5 scale that the user gave to the recipe. A score of 0 means that no score was given (Target Variable)\n"
      ]
    },
    {
      "cell_type": "code",
      "execution_count": 24,
      "metadata": {
        "execution": {
          "iopub.execute_input": "2024-04-07T18:48:54.736429Z",
          "iopub.status.busy": "2024-04-07T18:48:54.736059Z",
          "iopub.status.idle": "2024-04-07T18:48:56.685276Z",
          "shell.execute_reply": "2024-04-07T18:48:56.6842Z",
          "shell.execute_reply.started": "2024-04-07T18:48:54.736398Z"
        },
        "id": "J4TQ4snLshAC",
        "trusted": true
      },
      "outputs": [],
      "source": [
        "from sklearn.compose import make_column_transformer\n",
        "from sklearn.pipeline import make_pipeline\n",
        "from sklearn.preprocessing import StandardScaler, FunctionTransformer\n",
        "from sklearn.feature_extraction.text import TfidfVectorizer\n",
        "\n",
        "from sklearn.linear_model import LogisticRegression\n",
        "from sklearn.svm import SVC\n",
        "from sklearn.neighbors import KNeighborsClassifier\n",
        "\n",
        "from sklearn.ensemble import RandomForestClassifier, GradientBoostingClassifier\n",
        "from xgboost import XGBClassifier\n",
        "from lightgbm import LGBMClassifier\n",
        "\n",
        "from sklearn.feature_selection import SequentialFeatureSelector,mutual_info_classif,RFE,SelectKBest,f_classif\n",
        "from sklearn.model_selection import cross_val_score,RandomizedSearchCV,GridSearchCV\n",
        "\n",
        "from scipy.stats import uniform, randint\n",
        "\n",
        "import pickle\n",
        "\n",
        "rs=42"
      ]
    },
    {
      "cell_type": "code",
      "execution_count": 14,
      "metadata": {
        "execution": {
          "iopub.execute_input": "2024-04-07T18:48:56.687628Z",
          "iopub.status.busy": "2024-04-07T18:48:56.686982Z",
          "iopub.status.idle": "2024-04-07T18:48:56.695339Z",
          "shell.execute_reply": "2024-04-07T18:48:56.694152Z",
          "shell.execute_reply.started": "2024-04-07T18:48:56.687593Z"
        },
        "id": "9zYpuc9AJEBO",
        "trusted": true
      },
      "outputs": [],
      "source": [
        "UserReputation_preprocess=make_pipeline(StandardScaler())\n",
        "ReplyCount_preprocess=make_pipeline(StandardScaler())\n",
        "ThumbsUpCount_preprocess=make_pipeline(StandardScaler())\n",
        "ThumbsDownCount_preprocess=make_pipeline(StandardScaler())\n",
        "\n",
        "# Using the TfidfVectorizer only for the purposes of 'Splitting' that is separating sentences into words, 'frequency counting', 'tf*idf' and finally 'normalization'\n",
        "# Manual lemmatization, lowercase conversion,accent stripping, stop word removal has been done via replace_patterns() as stop word removal and identification of tfidf is pathetic in sklearn!\n",
        "# Another reason is for optimization! Only the above(1st comment) procedures are dynamic that is \"need to be repeated in a cv loop\"\n",
        "# 2nd comment procedures remain common be it any split of a cv loop!\n",
        "\n",
        "# NEVER APPLY TRANSFORMERS PERTAINING TO THE SAME COLUMN IN TWO DIFFERENT ITERATIONS!!!! ex: Applying below functiontransformer in one row and then custom transformer in the next even though both pertain to the same column 'Recipe_Reviews'\n",
        "# Go with custom transformer whenever you are adding new columns, cos function_transformer's get_feature_names_out causes problems otherwise\n",
        "\n",
        "preprocess = make_column_transformer(\n",
        "    (UserReputation_preprocess, ['UserReputation']),\n",
        "    (ReplyCount_preprocess, ['ReplyCount']),\n",
        "    (ThumbsUpCount_preprocess, ['ThumbsUpCount']),\n",
        "    (ThumbsDownCount_preprocess, ['ThumbsDownCount']),\n",
        "    # (make_pipeline(FunctionTransformer(replace_patterns, feature_names_out='one-to-one'),TfidfTransformer()), ['Recipe_Review']),\n",
        "    (TfidfTransformer(),['Recipe_Review']),\n",
        "    remainder='drop',\n",
        "    n_jobs=-1,\n",
        "    verbose_feature_names_out=False,\n",
        "    sparse_threshold=0,\n",
        ")"
      ]
    },
    {
      "cell_type": "code",
      "execution_count": null,
      "metadata": {
        "execution": {
          "iopub.execute_input": "2024-04-07T18:48:56.698189Z",
          "iopub.status.busy": "2024-04-07T18:48:56.69741Z",
          "iopub.status.idle": "2024-04-07T18:49:00.328024Z",
          "shell.execute_reply": "2024-04-07T18:49:00.327087Z",
          "shell.execute_reply.started": "2024-04-07T18:48:56.698139Z"
        },
        "id": "_lxBYpPgUYG1",
        "trusted": true
      },
      "outputs": [],
      "source": [
        "temp=pd.DataFrame(preprocess.fit_transform(X2),columns=preprocess.get_feature_names_out())\n",
        "temp"
      ]
    },
    {
      "cell_type": "markdown",
      "metadata": {
        "id": "IJLLIvMmzm-8"
      },
      "source": [
        "# Models"
      ]
    },
    {
      "cell_type": "code",
      "execution_count": 29,
      "metadata": {
        "execution": {
          "iopub.execute_input": "2024-04-05T04:19:07.6877Z",
          "iopub.status.busy": "2024-04-05T04:19:07.687277Z",
          "iopub.status.idle": "2024-04-05T04:19:07.701379Z",
          "shell.execute_reply": "2024-04-05T04:19:07.700478Z",
          "shell.execute_reply.started": "2024-04-05T04:19:07.687667Z"
        },
        "id": "ZixNd--Hz-Su",
        "trusted": true
      },
      "outputs": [],
      "source": [
        "with open('svc_clf.pkl', 'wb') as file:\n",
        "    pickle.dump(svc_clf, file)"
      ]
    },
    {
      "cell_type": "code",
      "execution_count": null,
      "metadata": {
        "execution": {
          "iopub.execute_input": "2024-04-07T18:50:06.122236Z",
          "iopub.status.busy": "2024-04-07T18:50:06.121136Z",
          "iopub.status.idle": "2024-04-07T18:50:06.136044Z",
          "shell.execute_reply": "2024-04-07T18:50:06.135245Z",
          "shell.execute_reply.started": "2024-04-07T18:50:06.122163Z"
        },
        "id": "yZYZK5716Ag6",
        "trusted": true
      },
      "outputs": [],
      "source": [
        "with open('../input/dataset/logreg_clf.pkl', 'rb') as file:\n",
        "    clf = pickle.load(file)"
      ]
    },
    {
      "cell_type": "code",
      "execution_count": 20,
      "metadata": {
        "colab": {
          "base_uri": "https://localhost:8080/",
          "height": 17
        },
        "id": "2BJSLBf86zuM",
        "outputId": "55a26627-894e-4c10-d426-c17a7ce8aa77"
      },
      "outputs": [
        {
          "data": {
            "application/javascript": "\n    async function download(id, filename, size) {\n      if (!google.colab.kernel.accessAllowed) {\n        return;\n      }\n      const div = document.createElement('div');\n      const label = document.createElement('label');\n      label.textContent = `Downloading \"${filename}\": `;\n      div.appendChild(label);\n      const progress = document.createElement('progress');\n      progress.max = size;\n      div.appendChild(progress);\n      document.body.appendChild(div);\n\n      const buffers = [];\n      let downloaded = 0;\n\n      const channel = await google.colab.kernel.comms.open(id);\n      // Send a message to notify the kernel that we're ready.\n      channel.send({})\n\n      for await (const message of channel.messages) {\n        // Send a message to notify the kernel that we're ready.\n        channel.send({})\n        if (message.buffers) {\n          for (const buffer of message.buffers) {\n            buffers.push(buffer);\n            downloaded += buffer.byteLength;\n            progress.value = downloaded;\n          }\n        }\n      }\n      const blob = new Blob(buffers, {type: 'application/binary'});\n      const a = document.createElement('a');\n      a.href = window.URL.createObjectURL(blob);\n      a.download = filename;\n      div.appendChild(a);\n      a.click();\n      div.remove();\n    }\n  ",
            "text/plain": [
              "<IPython.core.display.Javascript object>"
            ]
          },
          "metadata": {},
          "output_type": "display_data"
        },
        {
          "data": {
            "application/javascript": "download(\"download_acb28066-4483-4a83-b2d4-701711f87955\", \"lg_clf.pkl\", 143792)",
            "text/plain": [
              "<IPython.core.display.Javascript object>"
            ]
          },
          "metadata": {},
          "output_type": "display_data"
        }
      ],
      "source": [
        "# from google.colab import files\n",
        "# from google.colab import drive\n",
        "\n",
        "with open('knc_clf.pkl', 'wb') as file:\n",
        "    pickle.dump(knc_clf, file)\n",
        "\n",
        "# try:\n",
        "#     files.download('lg_clf.pkl')\n",
        "# except:\n",
        "#     drive.mount('/content/drive')\n",
        "\n",
        "#     !cp lg_clf.pkl /content/drive/MyDrive/\n"
      ]
    },
    {
      "cell_type": "markdown",
      "metadata": {
        "id": "TEEY5rg2zB5-"
      },
      "source": [
        "## KNeighborsClassifier"
      ]
    },
    {
      "cell_type": "code",
      "execution_count": 15,
      "metadata": {
        "execution": {
          "iopub.execute_input": "2024-04-05T04:18:46.10164Z",
          "iopub.status.busy": "2024-04-05T04:18:46.101208Z",
          "iopub.status.idle": "2024-04-05T04:18:46.110166Z",
          "shell.execute_reply": "2024-04-05T04:18:46.109059Z",
          "shell.execute_reply.started": "2024-04-05T04:18:46.101603Z"
        },
        "id": "ZCEj5K1CvnHE",
        "trusted": true
      },
      "outputs": [],
      "source": [
        "param_grid = {\n",
        "    'kneighborsclassifier__n_neighbors': range(5,106,10),\n",
        "    'kneighborsclassifier__weights': ['uniform'],\n",
        "    'selectkbest__k': [30],\n",
        "}\n",
        "\n",
        "knc_clf= GridSearchCV(make_pipeline(\n",
        "    preprocess,\n",
        "    SelectKBest(mutual_info_classif),\n",
        "    KNeighborsClassifier(),\n",
        "    ),\n",
        "                              param_grid,\n",
        "                              scoring='accuracy',\n",
        "                              cv=10,\n",
        "                              n_jobs=-1,\n",
        "                              refit=True,\n",
        "                              verbose=4,\n",
        "                              error_score=-1,\n",
        "                              return_train_score=True\n",
        ")"
      ]
    },
    {
      "cell_type": "code",
      "execution_count": 16,
      "metadata": {
        "id": "12-V7n_n0Jj6"
      },
      "outputs": [
        {
          "name": "stdout",
          "output_type": "stream",
          "text": [
            "Fitting 10 folds for each of 11 candidates, totalling 110 fits\n",
            "Best parameters:  {'kneighborsclassifier__n_neighbors': 85, 'kneighborsclassifier__weights': 'uniform', 'selectkbest__k': 30}\n",
            "Best score:  0.7614786900553592\n",
            "Mean test scores:  [0.72150509 0.75913136 0.76023155 0.76111158 0.76140527 0.76118538\n",
            " 0.76103859 0.76096522 0.76147869 0.76111191 0.76118527]\n",
            "Results:  {'mean_fit_time': array([57.08412585, 21.56401784, 10.33376296, 11.11791925, 12.24254458,\n",
            "       10.95966747, 12.17910752, 12.28640199, 13.23414266, 13.75273402,\n",
            "       12.1211303 ]), 'std_fit_time': array([ 1.59695897, 18.41954388,  0.87825588,  1.23297193,  0.52197707,\n",
            "        0.23296042,  0.69400316,  0.498473  ,  0.47914295,  0.49176505,\n",
            "        2.40197128]), 'mean_score_time': array([1.29554729, 0.407763  , 0.44395564, 0.57902684, 0.44644396,\n",
            "       0.33937953, 0.46013899, 0.58826821, 0.60161197, 0.57165048,\n",
            "       0.56648657]), 'std_score_time': array([1.04188165, 0.05905138, 0.06762126, 0.13230905, 0.09581987,\n",
            "       0.02608976, 0.05594943, 0.14477923, 0.09715847, 0.07990167,\n",
            "       0.18473586]), 'param_kneighborsclassifier__n_neighbors': masked_array(data=[5, 15, 25, 35, 45, 55, 65, 75, 85, 95, 105],\n",
            "             mask=[False, False, False, False, False, False, False, False,\n",
            "                   False, False, False],\n",
            "       fill_value='?',\n",
            "            dtype=object), 'param_kneighborsclassifier__weights': masked_array(data=['uniform', 'uniform', 'uniform', 'uniform', 'uniform',\n",
            "                   'uniform', 'uniform', 'uniform', 'uniform', 'uniform',\n",
            "                   'uniform'],\n",
            "             mask=[False, False, False, False, False, False, False, False,\n",
            "                   False, False, False],\n",
            "       fill_value='?',\n",
            "            dtype=object), 'param_selectkbest__k': masked_array(data=[30, 30, 30, 30, 30, 30, 30, 30, 30, 30, 30],\n",
            "             mask=[False, False, False, False, False, False, False, False,\n",
            "                   False, False, False],\n",
            "       fill_value='?',\n",
            "            dtype=object), 'params': [{'kneighborsclassifier__n_neighbors': 5, 'kneighborsclassifier__weights': 'uniform', 'selectkbest__k': 30}, {'kneighborsclassifier__n_neighbors': 15, 'kneighborsclassifier__weights': 'uniform', 'selectkbest__k': 30}, {'kneighborsclassifier__n_neighbors': 25, 'kneighborsclassifier__weights': 'uniform', 'selectkbest__k': 30}, {'kneighborsclassifier__n_neighbors': 35, 'kneighborsclassifier__weights': 'uniform', 'selectkbest__k': 30}, {'kneighborsclassifier__n_neighbors': 45, 'kneighborsclassifier__weights': 'uniform', 'selectkbest__k': 30}, {'kneighborsclassifier__n_neighbors': 55, 'kneighborsclassifier__weights': 'uniform', 'selectkbest__k': 30}, {'kneighborsclassifier__n_neighbors': 65, 'kneighborsclassifier__weights': 'uniform', 'selectkbest__k': 30}, {'kneighborsclassifier__n_neighbors': 75, 'kneighborsclassifier__weights': 'uniform', 'selectkbest__k': 30}, {'kneighborsclassifier__n_neighbors': 85, 'kneighborsclassifier__weights': 'uniform', 'selectkbest__k': 30}, {'kneighborsclassifier__n_neighbors': 95, 'kneighborsclassifier__weights': 'uniform', 'selectkbest__k': 30}, {'kneighborsclassifier__n_neighbors': 105, 'kneighborsclassifier__weights': 'uniform', 'selectkbest__k': 30}], 'split0_test_score': array([0.70967742, 0.75733138, 0.75733138, 0.76173021, 0.75879765,\n",
            "       0.75879765, 0.76099707, 0.76099707, 0.76099707, 0.76099707,\n",
            "       0.76099707]), 'split1_test_score': array([0.72140762, 0.76026393, 0.76173021, 0.76246334, 0.76246334,\n",
            "       0.76099707, 0.76099707, 0.76173021, 0.76173021, 0.76246334,\n",
            "       0.76246334]), 'split2_test_score': array([0.73020528, 0.76392962, 0.76392962, 0.76392962, 0.76099707,\n",
            "       0.76246334, 0.75953079, 0.76026393, 0.76246334, 0.76099707,\n",
            "       0.76026393]), 'split3_test_score': array([0.72434018, 0.75806452, 0.76099707, 0.76099707, 0.76392962,\n",
            "       0.76099707, 0.76246334, 0.76099707, 0.76026393, 0.76026393,\n",
            "       0.76099707]), 'split4_test_score': array([0.71166544, 0.75788701, 0.75715334, 0.76082172, 0.76008804,\n",
            "       0.76155539, 0.76155539, 0.76082172, 0.76082172, 0.76082172,\n",
            "       0.76082172]), 'split5_test_score': array([0.72633896, 0.76082172, 0.76375642, 0.76228907, 0.76155539,\n",
            "       0.76082172, 0.76082172, 0.76228907, 0.76008804, 0.76082172,\n",
            "       0.76155539]), 'split6_test_score': array([0.71166544, 0.76082172, 0.76008804, 0.75715334, 0.75788701,\n",
            "       0.75935437, 0.75935437, 0.75935437, 0.76082172, 0.76082172,\n",
            "       0.76082172]), 'split7_test_score': array([0.71680117, 0.75421864, 0.75935437, 0.75935437, 0.76228907,\n",
            "       0.76375642, 0.76228907, 0.76155539, 0.76082172, 0.76228907,\n",
            "       0.76082172]), 'split8_test_score': array([0.73000734, 0.75862069, 0.75568599, 0.76155539, 0.7644901 ,\n",
            "       0.76082172, 0.76155539, 0.76008804, 0.76155539, 0.76008804,\n",
            "       0.76082172]), 'split9_test_score': array([0.73294204, 0.75935437, 0.76228907, 0.76082172, 0.76155539,\n",
            "       0.76228907, 0.76082172, 0.76155539, 0.76522377, 0.76155539,\n",
            "       0.76228907]), 'mean_test_score': array([0.72150509, 0.75913136, 0.76023155, 0.76111158, 0.76140527,\n",
            "       0.76118538, 0.76103859, 0.76096522, 0.76147869, 0.76111191,\n",
            "       0.76118527]), 'std_test_score': array([0.00816   , 0.00245749, 0.00269266, 0.00175132, 0.00197266,\n",
            "       0.00137796, 0.0009662 , 0.00083145, 0.00141424, 0.00073859,\n",
            "       0.00066612]), 'rank_test_score': array([11, 10,  9,  6,  2,  3,  7,  8,  1,  5,  4]), 'split0_train_score': array([0.78418908, 0.76462918, 0.76634067, 0.76511817, 0.76430318,\n",
            "       0.76324368, 0.76169519, 0.76128769, 0.7609617 , 0.76104319,\n",
            "       0.7607987 ]), 'split1_train_score': array([0.78133659, 0.76552567, 0.76430318, 0.76185819, 0.76332518,\n",
            "       0.76153219, 0.76161369, 0.76242869, 0.7607987 , 0.76234719,\n",
            "       0.76210269]), 'split2_train_score': array([0.78492258, 0.76903015, 0.76617767, 0.76454768, 0.76234719,\n",
            "       0.7608802 , 0.76153219, 0.76112469, 0.76251019, 0.7608802 ,\n",
            "       0.76104319]), 'split3_train_score': array([0.7794621 , 0.76577017, 0.76226569, 0.76153219, 0.76169519,\n",
            "       0.7609617 , 0.76104319, 0.76275469, 0.7607172 , 0.7607987 ,\n",
            "       0.7607987 ]), 'split4_train_score': array([0.77956157, 0.76872301, 0.76489284, 0.76228506, 0.76204058,\n",
            "       0.76212208, 0.76114416, 0.76114416, 0.76098118, 0.76089968,\n",
            "       0.76081819]), 'split5_train_score': array([0.77964306, 0.76587075, 0.76334447, 0.7617961 , 0.7617961 ,\n",
            "       0.76122565, 0.76130715, 0.76309999, 0.76138864, 0.76228506,\n",
            "       0.76261103]), 'split6_train_score': array([0.77842067, 0.76603374, 0.76358895, 0.76334447, 0.76171461,\n",
            "       0.7617961 , 0.76171461, 0.76155163, 0.76114416, 0.76130715,\n",
            "       0.76106267]), 'split7_train_score': array([0.78159889, 0.76733763, 0.76440388, 0.76285551, 0.76171461,\n",
            "       0.76293701, 0.76114416, 0.76089968, 0.76089968, 0.76089968,\n",
            "       0.7607367 ]), 'split8_train_score': array([0.77890962, 0.76562627, 0.76481134, 0.7618776 , 0.76138864,\n",
            "       0.76122565, 0.76114416, 0.76261103, 0.76081819, 0.76114416,\n",
            "       0.76089968]), 'split9_train_score': array([0.78404368, 0.76570777, 0.76367044, 0.76277402, 0.76212208,\n",
            "       0.7618776 , 0.76106267, 0.76130715, 0.76244805, 0.76106267,\n",
            "       0.7606552 ]), 'mean_train_score': array([0.78120878, 0.76642543, 0.76437991, 0.7627989 , 0.76224474,\n",
            "       0.76178019, 0.76134012, 0.76182094, 0.76126677, 0.76126677,\n",
            "       0.76115267]), 'std_train_score': array([0.00228375, 0.00137753, 0.00119177, 0.00115528, 0.00085264,\n",
            "       0.00075915, 0.0002568 , 0.00076901, 0.0006327 , 0.00054319,\n",
            "       0.00062421])}\n"
          ]
        }
      ],
      "source": [
        "knc_clf.fit(X2,y2)\n",
        "print(\"Best parameters: \", knc_clf.best_params_)\n",
        "print(\"Best score: \", knc_clf.best_score_)\n",
        "print(\"Mean test scores: \", knc_clf.cv_results_['mean_test_score'])\n",
        "print(\"Results: \",knc_clf.cv_results_)\n",
        "\n",
        "# weights: distance giving >0.9 on entire train while unifrom gives 0.76 on both\n",
        "# 'distance' did overfit the data with 0.75 test score... best estimator gave test score of 0.7619"
      ]
    },
    {
      "cell_type": "markdown",
      "metadata": {
        "id": "zyV9yePVWDlJ"
      },
      "source": [
        "## Logistic"
      ]
    },
    {
      "cell_type": "code",
      "execution_count": 30,
      "metadata": {
        "id": "LSiPMA5qWGuc"
      },
      "outputs": [],
      "source": [
        "param_grid = [\n",
        "    # {\n",
        "    # 'logisticregression__C': [1], #f 0.76455927\n",
        "    # 'logisticregression__max_iter': [10000], #f\n",
        "    # 'logisticregression__penalty': ['l2'], #f\n",
        "    # 'logisticregression__solver': ['newton-cholesky'], #f\n",
        "    # 'logisticregression__class_weight': [None], #f\n",
        "    # 'logisticregression__tol': [1e-3], #f\n",
        "    # 'logisticregression__warm_start': [True], #f\n",
        "    # },\n",
        "    # {\n",
        "    # 'logisticregression__C':[0.1,1,10],\n",
        "    # 'logisticregression__penalty': ['elasticnet'],\n",
        "    # 'logisticregression__solver': ['saga'],\n",
        "    # 'logisticregression__class_weight': [None,'balanced'],\n",
        "    # 'logisticregression__warm_start': [True,False],\n",
        "    # 'logisticregression__tol': [1e-4],\n",
        "    # 'logisticregression__l1_ratio': [0.5], #0.7645593735211135\n",
        "    # # Best parameters:  {'logisticregression__l1_ratio': 0.5, 'logisticregression__penalty': 'elasticnet', 'logisticregression__solver': 'saga', 'logisticregression__tol': 0.0001}\n",
        "    # },\n",
        "    # {\n",
        "    # 'logisticregression__C':[0.1,1,10],\n",
        "\n",
        "    # 'logisticregression__penalty': ['l1'], #0.76455929\n",
        "    # 'logisticregression__solver': ['liblinear'],\n",
        "    # },\n",
        "    {\n",
        "        'rfe__n_features_to_select':[10,20,30],\n",
        "    }\n",
        "              ]\n",
        "\n",
        "LogReg=LogisticRegression(multi_class='auto',\n",
        "                          random_state=rs,\n",
        "                          verbose=1,\n",
        "                          n_jobs=-1,\n",
        "                          dual=False,\n",
        "                          fit_intercept=True,\n",
        "\n",
        "                          max_iter=10000,\n",
        "                          class_weight=None,\n",
        "                          solver='newton-cholesky',\n",
        "                          warm_start=True,\n",
        "                          l1_ratio=None,\n",
        "                          penalty='l2',\n",
        "                          tol=1e-3,\n",
        "                          C=1,\n",
        "                          intercept_scaling=1,\n",
        "                           )\n",
        "\n",
        "lg_clf = GridSearchCV(\n",
        "    make_pipeline(\n",
        "        preprocess,\n",
        "        RFE(LogisticRegression(),\n",
        "              verbose=1,\n",
        "\n",
        "              n_features_to_select=20,\n",
        "              step=1,\n",
        "              ),\n",
        "        # LogReg\n",
        "        ),\n",
        "\n",
        "    param_grid,\n",
        "    scoring='accuracy',\n",
        "    cv=5,\n",
        "    n_jobs=-1,\n",
        "    refit=True,\n",
        "    verbose=4,\n",
        "    error_score='raise',\n",
        "    return_train_score=True,\n",
        "    )\n"
      ]
    },
    {
      "cell_type": "code",
      "execution_count": null,
      "metadata": {
        "id": "JeNFbc28dZD6"
      },
      "outputs": [],
      "source": [
        "lg_clf.best_estimator_.named_steps['logisticregression'].coef_"
      ]
    },
    {
      "cell_type": "code",
      "execution_count": null,
      "metadata": {
        "colab": {
          "base_uri": "https://localhost:8080/"
        },
        "id": "JOolBixNdVq-",
        "outputId": "83cd6506-9156-4e85-d7b2-4705e96ffebf"
      },
      "outputs": [
        {
          "name": "stdout",
          "output_type": "stream",
          "text": [
            "Fitting 5 folds for each of 3 candidates, totalling 15 fits\n"
          ]
        }
      ],
      "source": [
        "lg_clf.fit(X1,y1)"
      ]
    },
    {
      "cell_type": "code",
      "execution_count": 22,
      "metadata": {
        "colab": {
          "base_uri": "https://localhost:8080/",
          "height": 373
        },
        "id": "ZHn0Hk0rWO0w",
        "outputId": "f6338225-287d-462b-d878-89c4eddb2241"
      },
      "outputs": [
        {
          "name": "stdout",
          "output_type": "stream",
          "text": [
            "Fitting 5 folds for each of 12 candidates, totalling 60 fits\n"
          ]
        },
        {
          "ename": "KeyboardInterrupt",
          "evalue": "",
          "output_type": "error",
          "traceback": [
            "\u001b[0;31m---------------------------------------------------------------------------\u001b[0m",
            "\u001b[0;31mKeyboardInterrupt\u001b[0m                         Traceback (most recent call last)",
            "\u001b[0;32m<ipython-input-22-8d01fff0433f>\u001b[0m in \u001b[0;36m<cell line: 1>\u001b[0;34m()\u001b[0m\n\u001b[0;32m----> 1\u001b[0;31m \u001b[0mlg_clf\u001b[0m\u001b[0;34m.\u001b[0m\u001b[0mfit\u001b[0m\u001b[0;34m(\u001b[0m\u001b[0mX1\u001b[0m\u001b[0;34m,\u001b[0m\u001b[0my1\u001b[0m\u001b[0;34m)\u001b[0m\u001b[0;34m\u001b[0m\u001b[0;34m\u001b[0m\u001b[0m\n\u001b[0m\u001b[1;32m      2\u001b[0m \u001b[0mprint\u001b[0m\u001b[0;34m(\u001b[0m\u001b[0;34m\"Best parameters: \"\u001b[0m\u001b[0;34m,\u001b[0m \u001b[0mlg_clf\u001b[0m\u001b[0;34m.\u001b[0m\u001b[0mbest_params_\u001b[0m\u001b[0;34m)\u001b[0m\u001b[0;34m\u001b[0m\u001b[0;34m\u001b[0m\u001b[0m\n\u001b[1;32m      3\u001b[0m \u001b[0mprint\u001b[0m\u001b[0;34m(\u001b[0m\u001b[0;34m\"Best score: \"\u001b[0m\u001b[0;34m,\u001b[0m \u001b[0mlg_clf\u001b[0m\u001b[0;34m.\u001b[0m\u001b[0mbest_score_\u001b[0m\u001b[0;34m)\u001b[0m\u001b[0;34m\u001b[0m\u001b[0;34m\u001b[0m\u001b[0m\n\u001b[1;32m      4\u001b[0m \u001b[0mprint\u001b[0m\u001b[0;34m(\u001b[0m\u001b[0;34m\"Mean test scores: \"\u001b[0m\u001b[0;34m,\u001b[0m \u001b[0mlg_clf\u001b[0m\u001b[0;34m.\u001b[0m\u001b[0mcv_results_\u001b[0m\u001b[0;34m[\u001b[0m\u001b[0;34m'mean_test_score'\u001b[0m\u001b[0;34m]\u001b[0m\u001b[0;34m)\u001b[0m\u001b[0;34m\u001b[0m\u001b[0;34m\u001b[0m\u001b[0m\n\u001b[1;32m      5\u001b[0m \u001b[0mprint\u001b[0m\u001b[0;34m(\u001b[0m\u001b[0;34m\"Mean train scores: \"\u001b[0m\u001b[0;34m,\u001b[0m \u001b[0mlg_clf\u001b[0m\u001b[0;34m.\u001b[0m\u001b[0mcv_results_\u001b[0m\u001b[0;34m[\u001b[0m\u001b[0;34m'mean_train_score'\u001b[0m\u001b[0;34m]\u001b[0m\u001b[0;34m)\u001b[0m\u001b[0;34m\u001b[0m\u001b[0;34m\u001b[0m\u001b[0m\n",
            "\u001b[0;32m/usr/local/lib/python3.10/dist-packages/sklearn/model_selection/_search.py\u001b[0m in \u001b[0;36mfit\u001b[0;34m(self, X, y, groups, **fit_params)\u001b[0m\n\u001b[1;32m    872\u001b[0m                 \u001b[0;32mreturn\u001b[0m \u001b[0mresults\u001b[0m\u001b[0;34m\u001b[0m\u001b[0;34m\u001b[0m\u001b[0m\n\u001b[1;32m    873\u001b[0m \u001b[0;34m\u001b[0m\u001b[0m\n\u001b[0;32m--> 874\u001b[0;31m             \u001b[0mself\u001b[0m\u001b[0;34m.\u001b[0m\u001b[0m_run_search\u001b[0m\u001b[0;34m(\u001b[0m\u001b[0mevaluate_candidates\u001b[0m\u001b[0;34m)\u001b[0m\u001b[0;34m\u001b[0m\u001b[0;34m\u001b[0m\u001b[0m\n\u001b[0m\u001b[1;32m    875\u001b[0m \u001b[0;34m\u001b[0m\u001b[0m\n\u001b[1;32m    876\u001b[0m             \u001b[0;31m# multimetric is determined here because in the case of a callable\u001b[0m\u001b[0;34m\u001b[0m\u001b[0;34m\u001b[0m\u001b[0m\n",
            "\u001b[0;32m/usr/local/lib/python3.10/dist-packages/sklearn/model_selection/_search.py\u001b[0m in \u001b[0;36m_run_search\u001b[0;34m(self, evaluate_candidates)\u001b[0m\n\u001b[1;32m   1386\u001b[0m     \u001b[0;32mdef\u001b[0m \u001b[0m_run_search\u001b[0m\u001b[0;34m(\u001b[0m\u001b[0mself\u001b[0m\u001b[0;34m,\u001b[0m \u001b[0mevaluate_candidates\u001b[0m\u001b[0;34m)\u001b[0m\u001b[0;34m:\u001b[0m\u001b[0;34m\u001b[0m\u001b[0;34m\u001b[0m\u001b[0m\n\u001b[1;32m   1387\u001b[0m         \u001b[0;34m\"\"\"Search all candidates in param_grid\"\"\"\u001b[0m\u001b[0;34m\u001b[0m\u001b[0;34m\u001b[0m\u001b[0m\n\u001b[0;32m-> 1388\u001b[0;31m         \u001b[0mevaluate_candidates\u001b[0m\u001b[0;34m(\u001b[0m\u001b[0mParameterGrid\u001b[0m\u001b[0;34m(\u001b[0m\u001b[0mself\u001b[0m\u001b[0;34m.\u001b[0m\u001b[0mparam_grid\u001b[0m\u001b[0;34m)\u001b[0m\u001b[0;34m)\u001b[0m\u001b[0;34m\u001b[0m\u001b[0;34m\u001b[0m\u001b[0m\n\u001b[0m\u001b[1;32m   1389\u001b[0m \u001b[0;34m\u001b[0m\u001b[0m\n\u001b[1;32m   1390\u001b[0m \u001b[0;34m\u001b[0m\u001b[0m\n",
            "\u001b[0;32m/usr/local/lib/python3.10/dist-packages/sklearn/model_selection/_search.py\u001b[0m in \u001b[0;36mevaluate_candidates\u001b[0;34m(candidate_params, cv, more_results)\u001b[0m\n\u001b[1;32m    819\u001b[0m                     )\n\u001b[1;32m    820\u001b[0m \u001b[0;34m\u001b[0m\u001b[0m\n\u001b[0;32m--> 821\u001b[0;31m                 out = parallel(\n\u001b[0m\u001b[1;32m    822\u001b[0m                     delayed(_fit_and_score)(\n\u001b[1;32m    823\u001b[0m                         \u001b[0mclone\u001b[0m\u001b[0;34m(\u001b[0m\u001b[0mbase_estimator\u001b[0m\u001b[0;34m)\u001b[0m\u001b[0;34m,\u001b[0m\u001b[0;34m\u001b[0m\u001b[0;34m\u001b[0m\u001b[0m\n",
            "\u001b[0;32m/usr/local/lib/python3.10/dist-packages/sklearn/utils/parallel.py\u001b[0m in \u001b[0;36m__call__\u001b[0;34m(self, iterable)\u001b[0m\n\u001b[1;32m     61\u001b[0m             \u001b[0;32mfor\u001b[0m \u001b[0mdelayed_func\u001b[0m\u001b[0;34m,\u001b[0m \u001b[0margs\u001b[0m\u001b[0;34m,\u001b[0m \u001b[0mkwargs\u001b[0m \u001b[0;32min\u001b[0m \u001b[0miterable\u001b[0m\u001b[0;34m\u001b[0m\u001b[0;34m\u001b[0m\u001b[0m\n\u001b[1;32m     62\u001b[0m         )\n\u001b[0;32m---> 63\u001b[0;31m         \u001b[0;32mreturn\u001b[0m \u001b[0msuper\u001b[0m\u001b[0;34m(\u001b[0m\u001b[0;34m)\u001b[0m\u001b[0;34m.\u001b[0m\u001b[0m__call__\u001b[0m\u001b[0;34m(\u001b[0m\u001b[0miterable_with_config\u001b[0m\u001b[0;34m)\u001b[0m\u001b[0;34m\u001b[0m\u001b[0;34m\u001b[0m\u001b[0m\n\u001b[0m\u001b[1;32m     64\u001b[0m \u001b[0;34m\u001b[0m\u001b[0m\n\u001b[1;32m     65\u001b[0m \u001b[0;34m\u001b[0m\u001b[0m\n",
            "\u001b[0;32m/usr/local/lib/python3.10/dist-packages/joblib/parallel.py\u001b[0m in \u001b[0;36m__call__\u001b[0;34m(self, iterable)\u001b[0m\n\u001b[1;32m   1950\u001b[0m         \u001b[0mnext\u001b[0m\u001b[0;34m(\u001b[0m\u001b[0moutput\u001b[0m\u001b[0;34m)\u001b[0m\u001b[0;34m\u001b[0m\u001b[0;34m\u001b[0m\u001b[0m\n\u001b[1;32m   1951\u001b[0m \u001b[0;34m\u001b[0m\u001b[0m\n\u001b[0;32m-> 1952\u001b[0;31m         \u001b[0;32mreturn\u001b[0m \u001b[0moutput\u001b[0m \u001b[0;32mif\u001b[0m \u001b[0mself\u001b[0m\u001b[0;34m.\u001b[0m\u001b[0mreturn_generator\u001b[0m \u001b[0;32melse\u001b[0m \u001b[0mlist\u001b[0m\u001b[0;34m(\u001b[0m\u001b[0moutput\u001b[0m\u001b[0;34m)\u001b[0m\u001b[0;34m\u001b[0m\u001b[0;34m\u001b[0m\u001b[0m\n\u001b[0m\u001b[1;32m   1953\u001b[0m \u001b[0;34m\u001b[0m\u001b[0m\n\u001b[1;32m   1954\u001b[0m     \u001b[0;32mdef\u001b[0m \u001b[0m__repr__\u001b[0m\u001b[0;34m(\u001b[0m\u001b[0mself\u001b[0m\u001b[0;34m)\u001b[0m\u001b[0;34m:\u001b[0m\u001b[0;34m\u001b[0m\u001b[0;34m\u001b[0m\u001b[0m\n",
            "\u001b[0;32m/usr/local/lib/python3.10/dist-packages/joblib/parallel.py\u001b[0m in \u001b[0;36m_get_outputs\u001b[0;34m(self, iterator, pre_dispatch)\u001b[0m\n\u001b[1;32m   1593\u001b[0m \u001b[0;34m\u001b[0m\u001b[0m\n\u001b[1;32m   1594\u001b[0m             \u001b[0;32mwith\u001b[0m \u001b[0mself\u001b[0m\u001b[0;34m.\u001b[0m\u001b[0m_backend\u001b[0m\u001b[0;34m.\u001b[0m\u001b[0mretrieval_context\u001b[0m\u001b[0;34m(\u001b[0m\u001b[0;34m)\u001b[0m\u001b[0;34m:\u001b[0m\u001b[0;34m\u001b[0m\u001b[0;34m\u001b[0m\u001b[0m\n\u001b[0;32m-> 1595\u001b[0;31m                 \u001b[0;32myield\u001b[0m \u001b[0;32mfrom\u001b[0m \u001b[0mself\u001b[0m\u001b[0;34m.\u001b[0m\u001b[0m_retrieve\u001b[0m\u001b[0;34m(\u001b[0m\u001b[0;34m)\u001b[0m\u001b[0;34m\u001b[0m\u001b[0;34m\u001b[0m\u001b[0m\n\u001b[0m\u001b[1;32m   1596\u001b[0m \u001b[0;34m\u001b[0m\u001b[0m\n\u001b[1;32m   1597\u001b[0m         \u001b[0;32mexcept\u001b[0m \u001b[0mGeneratorExit\u001b[0m\u001b[0;34m:\u001b[0m\u001b[0;34m\u001b[0m\u001b[0;34m\u001b[0m\u001b[0m\n",
            "\u001b[0;32m/usr/local/lib/python3.10/dist-packages/joblib/parallel.py\u001b[0m in \u001b[0;36m_retrieve\u001b[0;34m(self)\u001b[0m\n\u001b[1;32m   1705\u001b[0m                 (self._jobs[0].get_status(\n\u001b[1;32m   1706\u001b[0m                     timeout=self.timeout) == TASK_PENDING)):\n\u001b[0;32m-> 1707\u001b[0;31m                 \u001b[0mtime\u001b[0m\u001b[0;34m.\u001b[0m\u001b[0msleep\u001b[0m\u001b[0;34m(\u001b[0m\u001b[0;36m0.01\u001b[0m\u001b[0;34m)\u001b[0m\u001b[0;34m\u001b[0m\u001b[0;34m\u001b[0m\u001b[0m\n\u001b[0m\u001b[1;32m   1708\u001b[0m                 \u001b[0;32mcontinue\u001b[0m\u001b[0;34m\u001b[0m\u001b[0;34m\u001b[0m\u001b[0m\n\u001b[1;32m   1709\u001b[0m \u001b[0;34m\u001b[0m\u001b[0m\n",
            "\u001b[0;31mKeyboardInterrupt\u001b[0m: "
          ]
        }
      ],
      "source": [
        "lg_clf.fit(X1,y1)\n",
        "print(\"Best parameters: \", lg_clf.best_params_)\n",
        "print(\"Best score: \", lg_clf.best_score_)\n",
        "print(\"Mean test scores: \", lg_clf.cv_results_['mean_test_score'])\n",
        "print(\"Mean train scores: \", lg_clf.cv_results_['mean_train_score'])\n",
        "print(\"Results: \",lg_clf.cv_results_)\n",
        "\n",
        "# balanced gives pathetic results\n",
        "# C = 1 seems to be the way\n",
        "# newton and lbfgs same results but lbfgs faster\n",
        "# cholesky seems to perform better"
      ]
    },
    {
      "cell_type": "markdown",
      "metadata": {
        "id": "vNCbnEQPfvQ5"
      },
      "source": [
        "## SVC"
      ]
    },
    {
      "cell_type": "code",
      "execution_count": 27,
      "metadata": {
        "id": "6xXgQ6GAfxwg"
      },
      "outputs": [],
      "source": [
        "param_grid = {\n",
        "    'svc__C': [10,100], #f\n",
        "    'svc__kernel': ['linear','rbf'], #f\n",
        "    'svc__gamma': ['scale'], #f\n",
        "    'svc__tol': [1e-3,1e-2,1e-4], #f\n",
        "    'svc__max_iter': [10000], #f\n",
        "\n",
        "    'selectkbest__score_func':[mutual_info_classif,f_classif], #chi2 works only with +ve values but tfidf produces -ve values as well\n",
        "    'selectkbest__k':[20,30,40], \n",
        "}\n",
        "svc=SVC(random_state=rs)\n",
        "\n",
        "svc_clf = GridSearchCV(\n",
        "    make_pipeline(\n",
        "        preprocess,\n",
        "        SelectKBest(f_classif, k=30),\n",
        "        svc,\n",
        "        ),\n",
        "\n",
        "    param_grid,\n",
        "    scoring='accuracy',\n",
        "    cv=5,\n",
        "    n_jobs=-1,\n",
        "    refit=True,\n",
        "    verbose=4,\n",
        "    error_score='raise',\n",
        "    return_train_score=True,\n",
        "    )\n"
      ]
    },
    {
      "cell_type": "code",
      "execution_count": 28,
      "metadata": {
        "colab": {
          "base_uri": "https://localhost:8080/"
        },
        "id": "q4nSYoA3gHkc",
        "outputId": "2d19c5bc-d1fc-4d29-f0ba-52789fa1d928"
      },
      "outputs": [
        {
          "name": "stdout",
          "output_type": "stream",
          "text": [
            "Fitting 5 folds for each of 72 candidates, totalling 360 fits\n",
            "Best parameters:  {'selectkbest__k': 40, 'selectkbest__score_func': <function f_classif at 0x000001DC98FC2980>, 'svc__C': 10, 'svc__gamma': 'scale', 'svc__kernel': 'linear', 'svc__max_iter': 10000, 'svc__tol': 0.001}\n",
            "Best score:  0.7621389431679778\n",
            "Mean test scores:  [0.76052515 0.7608921  0.76125886 0.75949814 0.75964506 0.76015848\n",
            " 0.76023171 0.76067191 0.76133193 0.7575912  0.75641762 0.75795823\n",
            " 0.76111209 0.76074539 0.76067205 0.76103851 0.76103851 0.76103851\n",
            " 0.76015831 0.76015831 0.76015831 0.75905815 0.75905815 0.75905815\n",
            " 0.76103854 0.7618455  0.7609652  0.76162532 0.76052513 0.75986511\n",
            " 0.75971835 0.75575771 0.76030508 0.75018393 0.75223731 0.75260371\n",
            " 0.76111209 0.76118546 0.76067205 0.75986493 0.75986493 0.75986493\n",
            " 0.75957178 0.75957178 0.75957178 0.7564915  0.75656484 0.7564915\n",
            " 0.76059849 0.76067191 0.76103875 0.76015823 0.76111188 0.76184558\n",
            " 0.74791037 0.7505505  0.75825151 0.74790972 0.75011005 0.74622265\n",
            " 0.76213894 0.76155222 0.76213894 0.75964496 0.75949825 0.75964496\n",
            " 0.73800884 0.73800884 0.73800884 0.75370407 0.75377741 0.75370407]\n",
            "Mean train scores:  [0.76118528 0.7611486  0.7614053  0.77257227 0.77356247 0.77154542\n",
            " 0.76054353 0.76021342 0.76070851 0.78639773 0.79153206 0.78958861\n",
            " 0.76105692 0.76109359 0.76076353 0.77070192 0.77072026 0.77070192\n",
            " 0.76052516 0.76052516 0.76052516 0.78821327 0.78824995 0.78821327\n",
            " 0.7609469  0.76127697 0.76116695 0.77671624 0.77836665 0.77790819\n",
            " 0.76010341 0.75522584 0.76072687 0.82074264 0.81903732 0.8080719\n",
            " 0.76138698 0.761552   0.76118527 0.77480932 0.77482766 0.77480932\n",
            " 0.76045181 0.76045181 0.76045181 0.80746664 0.80744831 0.80746664\n",
            " 0.76173539 0.76135028 0.76180873 0.77860492 0.78346412 0.78626954\n",
            " 0.74913803 0.75088007 0.7585998  0.82514331 0.83148746 0.84450638\n",
            " 0.76239548 0.76237714 0.76235881 0.78102538 0.78104371 0.78102538\n",
            " 0.7407399  0.7407399  0.7407399  0.82864535 0.82866369 0.82864535]\n",
            "Results:  {'mean_fit_time': array([19.62487864, 19.45630569, 21.52892332, 25.55370159, 25.38196487,\n",
            "       26.70601335, 27.38266006, 25.30404506, 27.42664642, 35.42003632,\n",
            "       35.85781374, 39.94802647, 15.89587803, 14.23619885, 17.31467147,\n",
            "       21.38045554, 19.97808094, 17.44998593, 16.19885125, 14.99375391,\n",
            "       17.58843284, 21.98611617, 22.8120697 , 18.36993966, 23.37033515,\n",
            "       28.95362177, 36.12539635, 33.96355534, 30.62741327, 32.32248387,\n",
            "       35.010533  , 29.91817465, 35.04912658, 38.85819039, 32.13427992,\n",
            "       30.23766136, 11.48515387, 12.0226716 , 15.5398406 , 18.25133061,\n",
            "       17.82478418, 17.60652661, 21.88987365, 22.06895361, 23.59665747,\n",
            "       25.85023088, 24.91476507, 19.26216593, 24.99779129, 33.70252366,\n",
            "       43.77059555, 44.31655197, 36.13246274, 33.0922029 , 36.33909621,\n",
            "       37.15581703, 41.67072797, 40.95497742, 35.97718101, 39.07127976,\n",
            "       17.38414946, 20.48960433, 23.07139931, 26.49489317, 29.65991011,\n",
            "       23.41886702, 29.7942874 , 33.25494294, 34.32223711, 31.97212081,\n",
            "       27.26973252, 21.75861516]), 'std_fit_time': array([0.9092308 , 0.94406799, 0.95026081, 0.56028681, 1.0745428 ,\n",
            "       1.43829765, 0.36306611, 0.43643333, 1.37833373, 1.64365544,\n",
            "       1.33545425, 3.29756615, 1.65773676, 1.03953124, 1.58296123,\n",
            "       1.49564038, 1.07896956, 2.35042337, 0.93502964, 0.84239766,\n",
            "       0.92335702, 1.62490121, 0.77694442, 3.11663356, 2.28254139,\n",
            "       3.97375645, 0.53225675, 2.85956562, 1.30715451, 1.48678606,\n",
            "       1.87336787, 1.59544335, 0.65732238, 0.78437441, 2.65765314,\n",
            "       1.42739129, 0.85992091, 0.40911509, 0.75584514, 0.61138982,\n",
            "       0.45846572, 0.7704103 , 1.05949754, 1.20505397, 0.662782  ,\n",
            "       1.50196574, 1.16090162, 1.75523644, 2.61476888, 5.11956326,\n",
            "       0.7676232 , 1.72261503, 2.51072053, 1.88805508, 0.745836  ,\n",
            "       0.30207001, 2.53546528, 1.85533808, 1.57599413, 2.74446251,\n",
            "       1.79856948, 0.53257192, 0.88222874, 1.15493166, 0.81275519,\n",
            "       3.2409926 , 1.03733465, 0.97498666, 1.59129682, 0.37729528,\n",
            "       2.47109196, 2.94609221]), 'mean_score_time': array([1.13722811, 1.11531196, 1.35360956, 5.208255  , 5.20185494,\n",
            "       5.07258143, 1.56608706, 1.34858427, 2.02729053, 6.42897015,\n",
            "       6.06024446, 6.30741658, 1.88113022, 1.92583427, 2.24145484,\n",
            "       6.51170783, 7.17039123, 5.80825005, 1.7227376 , 1.78398614,\n",
            "       1.84100885, 7.73452897, 6.47093511, 5.62586975, 1.5703022 ,\n",
            "       2.25112667, 1.58601317, 5.70912957, 6.23197989, 6.03460131,\n",
            "       1.61758299, 1.54251442, 2.50818858, 6.38522577, 6.14748058,\n",
            "       6.16580062, 1.35355639, 1.28695316, 1.51740861, 5.77945352,\n",
            "       6.12846961, 6.35263743, 1.78631339, 1.86274967, 1.9640532 ,\n",
            "       7.1433157 , 7.09151058, 5.71736832, 1.95828896, 2.35562177,\n",
            "       1.85737696, 5.80442548, 6.03808479, 5.6664257 , 2.284129  ,\n",
            "       2.1172955 , 3.49039316, 5.9092577 , 6.603124  , 7.59110689,\n",
            "       1.70215335, 2.20890965, 2.1403996 , 6.71853561, 5.9326746 ,\n",
            "       6.04035201, 3.44886999, 4.0239531 , 3.44067955, 6.24150734,\n",
            "       6.10327139, 5.0189302 ]), 'std_score_time': array([0.17499999, 0.15143244, 0.21821296, 0.64207809, 0.22277021,\n",
            "       0.44863441, 0.15207351, 0.32769037, 0.49220973, 0.31125911,\n",
            "       0.33199572, 0.76180415, 0.20844396, 0.2585643 , 0.6147499 ,\n",
            "       0.91808694, 0.98378105, 0.54757956, 0.20394337, 0.18580915,\n",
            "       0.22856116, 0.4564499 , 0.57588835, 0.98816602, 0.27021362,\n",
            "       0.84771976, 0.14334055, 0.27584875, 1.08000435, 0.43586649,\n",
            "       0.09986722, 0.14104714, 0.39828988, 0.84010847, 0.47038736,\n",
            "       0.73764176, 0.05420824, 0.07305297, 0.22263529, 0.24687258,\n",
            "       0.32601417, 0.35558113, 0.13104439, 0.02247748, 0.14588138,\n",
            "       0.50428336, 0.63584294, 0.42820423, 0.49660883, 0.50390815,\n",
            "       0.26277323, 0.19183675, 0.30330931, 0.21072574, 0.28649072,\n",
            "       0.18070869, 0.59276993, 0.40075364, 0.45606232, 0.97751241,\n",
            "       0.14517024, 0.5326162 , 0.67053954, 0.64964597, 0.5268367 ,\n",
            "       0.21256226, 0.36469745, 0.58080145, 0.10802936, 0.16000238,\n",
            "       0.22969565, 0.50606522]), 'param_selectkbest__k': masked_array(data=[20, 20, 20, 20, 20, 20, 20, 20, 20, 20, 20, 20, 20, 20,\n",
            "                   20, 20, 20, 20, 20, 20, 20, 20, 20, 20, 30, 30, 30, 30,\n",
            "                   30, 30, 30, 30, 30, 30, 30, 30, 30, 30, 30, 30, 30, 30,\n",
            "                   30, 30, 30, 30, 30, 30, 40, 40, 40, 40, 40, 40, 40, 40,\n",
            "                   40, 40, 40, 40, 40, 40, 40, 40, 40, 40, 40, 40, 40, 40,\n",
            "                   40, 40],\n",
            "             mask=[False, False, False, False, False, False, False, False,\n",
            "                   False, False, False, False, False, False, False, False,\n",
            "                   False, False, False, False, False, False, False, False,\n",
            "                   False, False, False, False, False, False, False, False,\n",
            "                   False, False, False, False, False, False, False, False,\n",
            "                   False, False, False, False, False, False, False, False,\n",
            "                   False, False, False, False, False, False, False, False,\n",
            "                   False, False, False, False, False, False, False, False,\n",
            "                   False, False, False, False, False, False, False, False],\n",
            "       fill_value='?',\n",
            "            dtype=object), 'param_selectkbest__score_func': masked_array(data=[<function mutual_info_classif at 0x000001DC98FC0EA0>,\n",
            "                   <function mutual_info_classif at 0x000001DC98FC0EA0>,\n",
            "                   <function mutual_info_classif at 0x000001DC98FC0EA0>,\n",
            "                   <function mutual_info_classif at 0x000001DC98FC0EA0>,\n",
            "                   <function mutual_info_classif at 0x000001DC98FC0EA0>,\n",
            "                   <function mutual_info_classif at 0x000001DC98FC0EA0>,\n",
            "                   <function mutual_info_classif at 0x000001DC98FC0EA0>,\n",
            "                   <function mutual_info_classif at 0x000001DC98FC0EA0>,\n",
            "                   <function mutual_info_classif at 0x000001DC98FC0EA0>,\n",
            "                   <function mutual_info_classif at 0x000001DC98FC0EA0>,\n",
            "                   <function mutual_info_classif at 0x000001DC98FC0EA0>,\n",
            "                   <function mutual_info_classif at 0x000001DC98FC0EA0>,\n",
            "                   <function f_classif at 0x000001DC98FC2980>,\n",
            "                   <function f_classif at 0x000001DC98FC2980>,\n",
            "                   <function f_classif at 0x000001DC98FC2980>,\n",
            "                   <function f_classif at 0x000001DC98FC2980>,\n",
            "                   <function f_classif at 0x000001DC98FC2980>,\n",
            "                   <function f_classif at 0x000001DC98FC2980>,\n",
            "                   <function f_classif at 0x000001DC98FC2980>,\n",
            "                   <function f_classif at 0x000001DC98FC2980>,\n",
            "                   <function f_classif at 0x000001DC98FC2980>,\n",
            "                   <function f_classif at 0x000001DC98FC2980>,\n",
            "                   <function f_classif at 0x000001DC98FC2980>,\n",
            "                   <function f_classif at 0x000001DC98FC2980>,\n",
            "                   <function mutual_info_classif at 0x000001DC98FC0EA0>,\n",
            "                   <function mutual_info_classif at 0x000001DC98FC0EA0>,\n",
            "                   <function mutual_info_classif at 0x000001DC98FC0EA0>,\n",
            "                   <function mutual_info_classif at 0x000001DC98FC0EA0>,\n",
            "                   <function mutual_info_classif at 0x000001DC98FC0EA0>,\n",
            "                   <function mutual_info_classif at 0x000001DC98FC0EA0>,\n",
            "                   <function mutual_info_classif at 0x000001DC98FC0EA0>,\n",
            "                   <function mutual_info_classif at 0x000001DC98FC0EA0>,\n",
            "                   <function mutual_info_classif at 0x000001DC98FC0EA0>,\n",
            "                   <function mutual_info_classif at 0x000001DC98FC0EA0>,\n",
            "                   <function mutual_info_classif at 0x000001DC98FC0EA0>,\n",
            "                   <function mutual_info_classif at 0x000001DC98FC0EA0>,\n",
            "                   <function f_classif at 0x000001DC98FC2980>,\n",
            "                   <function f_classif at 0x000001DC98FC2980>,\n",
            "                   <function f_classif at 0x000001DC98FC2980>,\n",
            "                   <function f_classif at 0x000001DC98FC2980>,\n",
            "                   <function f_classif at 0x000001DC98FC2980>,\n",
            "                   <function f_classif at 0x000001DC98FC2980>,\n",
            "                   <function f_classif at 0x000001DC98FC2980>,\n",
            "                   <function f_classif at 0x000001DC98FC2980>,\n",
            "                   <function f_classif at 0x000001DC98FC2980>,\n",
            "                   <function f_classif at 0x000001DC98FC2980>,\n",
            "                   <function f_classif at 0x000001DC98FC2980>,\n",
            "                   <function f_classif at 0x000001DC98FC2980>,\n",
            "                   <function mutual_info_classif at 0x000001DC98FC0EA0>,\n",
            "                   <function mutual_info_classif at 0x000001DC98FC0EA0>,\n",
            "                   <function mutual_info_classif at 0x000001DC98FC0EA0>,\n",
            "                   <function mutual_info_classif at 0x000001DC98FC0EA0>,\n",
            "                   <function mutual_info_classif at 0x000001DC98FC0EA0>,\n",
            "                   <function mutual_info_classif at 0x000001DC98FC0EA0>,\n",
            "                   <function mutual_info_classif at 0x000001DC98FC0EA0>,\n",
            "                   <function mutual_info_classif at 0x000001DC98FC0EA0>,\n",
            "                   <function mutual_info_classif at 0x000001DC98FC0EA0>,\n",
            "                   <function mutual_info_classif at 0x000001DC98FC0EA0>,\n",
            "                   <function mutual_info_classif at 0x000001DC98FC0EA0>,\n",
            "                   <function mutual_info_classif at 0x000001DC98FC0EA0>,\n",
            "                   <function f_classif at 0x000001DC98FC2980>,\n",
            "                   <function f_classif at 0x000001DC98FC2980>,\n",
            "                   <function f_classif at 0x000001DC98FC2980>,\n",
            "                   <function f_classif at 0x000001DC98FC2980>,\n",
            "                   <function f_classif at 0x000001DC98FC2980>,\n",
            "                   <function f_classif at 0x000001DC98FC2980>,\n",
            "                   <function f_classif at 0x000001DC98FC2980>,\n",
            "                   <function f_classif at 0x000001DC98FC2980>,\n",
            "                   <function f_classif at 0x000001DC98FC2980>,\n",
            "                   <function f_classif at 0x000001DC98FC2980>,\n",
            "                   <function f_classif at 0x000001DC98FC2980>,\n",
            "                   <function f_classif at 0x000001DC98FC2980>],\n",
            "             mask=[False, False, False, False, False, False, False, False,\n",
            "                   False, False, False, False, False, False, False, False,\n",
            "                   False, False, False, False, False, False, False, False,\n",
            "                   False, False, False, False, False, False, False, False,\n",
            "                   False, False, False, False, False, False, False, False,\n",
            "                   False, False, False, False, False, False, False, False,\n",
            "                   False, False, False, False, False, False, False, False,\n",
            "                   False, False, False, False, False, False, False, False,\n",
            "                   False, False, False, False, False, False, False, False],\n",
            "       fill_value='?',\n",
            "            dtype=object), 'param_svc__C': masked_array(data=[10, 10, 10, 10, 10, 10, 100, 100, 100, 100, 100, 100,\n",
            "                   10, 10, 10, 10, 10, 10, 100, 100, 100, 100, 100, 100,\n",
            "                   10, 10, 10, 10, 10, 10, 100, 100, 100, 100, 100, 100,\n",
            "                   10, 10, 10, 10, 10, 10, 100, 100, 100, 100, 100, 100,\n",
            "                   10, 10, 10, 10, 10, 10, 100, 100, 100, 100, 100, 100,\n",
            "                   10, 10, 10, 10, 10, 10, 100, 100, 100, 100, 100, 100],\n",
            "             mask=[False, False, False, False, False, False, False, False,\n",
            "                   False, False, False, False, False, False, False, False,\n",
            "                   False, False, False, False, False, False, False, False,\n",
            "                   False, False, False, False, False, False, False, False,\n",
            "                   False, False, False, False, False, False, False, False,\n",
            "                   False, False, False, False, False, False, False, False,\n",
            "                   False, False, False, False, False, False, False, False,\n",
            "                   False, False, False, False, False, False, False, False,\n",
            "                   False, False, False, False, False, False, False, False],\n",
            "       fill_value='?',\n",
            "            dtype=object), 'param_svc__gamma': masked_array(data=['scale', 'scale', 'scale', 'scale', 'scale', 'scale',\n",
            "                   'scale', 'scale', 'scale', 'scale', 'scale', 'scale',\n",
            "                   'scale', 'scale', 'scale', 'scale', 'scale', 'scale',\n",
            "                   'scale', 'scale', 'scale', 'scale', 'scale', 'scale',\n",
            "                   'scale', 'scale', 'scale', 'scale', 'scale', 'scale',\n",
            "                   'scale', 'scale', 'scale', 'scale', 'scale', 'scale',\n",
            "                   'scale', 'scale', 'scale', 'scale', 'scale', 'scale',\n",
            "                   'scale', 'scale', 'scale', 'scale', 'scale', 'scale',\n",
            "                   'scale', 'scale', 'scale', 'scale', 'scale', 'scale',\n",
            "                   'scale', 'scale', 'scale', 'scale', 'scale', 'scale',\n",
            "                   'scale', 'scale', 'scale', 'scale', 'scale', 'scale',\n",
            "                   'scale', 'scale', 'scale', 'scale', 'scale', 'scale'],\n",
            "             mask=[False, False, False, False, False, False, False, False,\n",
            "                   False, False, False, False, False, False, False, False,\n",
            "                   False, False, False, False, False, False, False, False,\n",
            "                   False, False, False, False, False, False, False, False,\n",
            "                   False, False, False, False, False, False, False, False,\n",
            "                   False, False, False, False, False, False, False, False,\n",
            "                   False, False, False, False, False, False, False, False,\n",
            "                   False, False, False, False, False, False, False, False,\n",
            "                   False, False, False, False, False, False, False, False],\n",
            "       fill_value='?',\n",
            "            dtype=object), 'param_svc__kernel': masked_array(data=['linear', 'linear', 'linear', 'rbf', 'rbf', 'rbf',\n",
            "                   'linear', 'linear', 'linear', 'rbf', 'rbf', 'rbf',\n",
            "                   'linear', 'linear', 'linear', 'rbf', 'rbf', 'rbf',\n",
            "                   'linear', 'linear', 'linear', 'rbf', 'rbf', 'rbf',\n",
            "                   'linear', 'linear', 'linear', 'rbf', 'rbf', 'rbf',\n",
            "                   'linear', 'linear', 'linear', 'rbf', 'rbf', 'rbf',\n",
            "                   'linear', 'linear', 'linear', 'rbf', 'rbf', 'rbf',\n",
            "                   'linear', 'linear', 'linear', 'rbf', 'rbf', 'rbf',\n",
            "                   'linear', 'linear', 'linear', 'rbf', 'rbf', 'rbf',\n",
            "                   'linear', 'linear', 'linear', 'rbf', 'rbf', 'rbf',\n",
            "                   'linear', 'linear', 'linear', 'rbf', 'rbf', 'rbf',\n",
            "                   'linear', 'linear', 'linear', 'rbf', 'rbf', 'rbf'],\n",
            "             mask=[False, False, False, False, False, False, False, False,\n",
            "                   False, False, False, False, False, False, False, False,\n",
            "                   False, False, False, False, False, False, False, False,\n",
            "                   False, False, False, False, False, False, False, False,\n",
            "                   False, False, False, False, False, False, False, False,\n",
            "                   False, False, False, False, False, False, False, False,\n",
            "                   False, False, False, False, False, False, False, False,\n",
            "                   False, False, False, False, False, False, False, False,\n",
            "                   False, False, False, False, False, False, False, False],\n",
            "       fill_value='?',\n",
            "            dtype=object), 'param_svc__max_iter': masked_array(data=[10000, 10000, 10000, 10000, 10000, 10000, 10000, 10000,\n",
            "                   10000, 10000, 10000, 10000, 10000, 10000, 10000, 10000,\n",
            "                   10000, 10000, 10000, 10000, 10000, 10000, 10000, 10000,\n",
            "                   10000, 10000, 10000, 10000, 10000, 10000, 10000, 10000,\n",
            "                   10000, 10000, 10000, 10000, 10000, 10000, 10000, 10000,\n",
            "                   10000, 10000, 10000, 10000, 10000, 10000, 10000, 10000,\n",
            "                   10000, 10000, 10000, 10000, 10000, 10000, 10000, 10000,\n",
            "                   10000, 10000, 10000, 10000, 10000, 10000, 10000, 10000,\n",
            "                   10000, 10000, 10000, 10000, 10000, 10000, 10000, 10000],\n",
            "             mask=[False, False, False, False, False, False, False, False,\n",
            "                   False, False, False, False, False, False, False, False,\n",
            "                   False, False, False, False, False, False, False, False,\n",
            "                   False, False, False, False, False, False, False, False,\n",
            "                   False, False, False, False, False, False, False, False,\n",
            "                   False, False, False, False, False, False, False, False,\n",
            "                   False, False, False, False, False, False, False, False,\n",
            "                   False, False, False, False, False, False, False, False,\n",
            "                   False, False, False, False, False, False, False, False],\n",
            "       fill_value='?',\n",
            "            dtype=object), 'param_svc__tol': masked_array(data=[0.001, 0.01, 0.0001, 0.001, 0.01, 0.0001, 0.001, 0.01,\n",
            "                   0.0001, 0.001, 0.01, 0.0001, 0.001, 0.01, 0.0001,\n",
            "                   0.001, 0.01, 0.0001, 0.001, 0.01, 0.0001, 0.001, 0.01,\n",
            "                   0.0001, 0.001, 0.01, 0.0001, 0.001, 0.01, 0.0001,\n",
            "                   0.001, 0.01, 0.0001, 0.001, 0.01, 0.0001, 0.001, 0.01,\n",
            "                   0.0001, 0.001, 0.01, 0.0001, 0.001, 0.01, 0.0001,\n",
            "                   0.001, 0.01, 0.0001, 0.001, 0.01, 0.0001, 0.001, 0.01,\n",
            "                   0.0001, 0.001, 0.01, 0.0001, 0.001, 0.01, 0.0001,\n",
            "                   0.001, 0.01, 0.0001, 0.001, 0.01, 0.0001, 0.001, 0.01,\n",
            "                   0.0001, 0.001, 0.01, 0.0001],\n",
            "             mask=[False, False, False, False, False, False, False, False,\n",
            "                   False, False, False, False, False, False, False, False,\n",
            "                   False, False, False, False, False, False, False, False,\n",
            "                   False, False, False, False, False, False, False, False,\n",
            "                   False, False, False, False, False, False, False, False,\n",
            "                   False, False, False, False, False, False, False, False,\n",
            "                   False, False, False, False, False, False, False, False,\n",
            "                   False, False, False, False, False, False, False, False,\n",
            "                   False, False, False, False, False, False, False, False],\n",
            "       fill_value='?',\n",
            "            dtype=object), 'params': [{'selectkbest__k': 20, 'selectkbest__score_func': <function mutual_info_classif at 0x000001DC98FC0EA0>, 'svc__C': 10, 'svc__gamma': 'scale', 'svc__kernel': 'linear', 'svc__max_iter': 10000, 'svc__tol': 0.001}, {'selectkbest__k': 20, 'selectkbest__score_func': <function mutual_info_classif at 0x000001DC98FC0EA0>, 'svc__C': 10, 'svc__gamma': 'scale', 'svc__kernel': 'linear', 'svc__max_iter': 10000, 'svc__tol': 0.01}, {'selectkbest__k': 20, 'selectkbest__score_func': <function mutual_info_classif at 0x000001DC98FC0EA0>, 'svc__C': 10, 'svc__gamma': 'scale', 'svc__kernel': 'linear', 'svc__max_iter': 10000, 'svc__tol': 0.0001}, {'selectkbest__k': 20, 'selectkbest__score_func': <function mutual_info_classif at 0x000001DC98FC0EA0>, 'svc__C': 10, 'svc__gamma': 'scale', 'svc__kernel': 'rbf', 'svc__max_iter': 10000, 'svc__tol': 0.001}, {'selectkbest__k': 20, 'selectkbest__score_func': <function mutual_info_classif at 0x000001DC98FC0EA0>, 'svc__C': 10, 'svc__gamma': 'scale', 'svc__kernel': 'rbf', 'svc__max_iter': 10000, 'svc__tol': 0.01}, {'selectkbest__k': 20, 'selectkbest__score_func': <function mutual_info_classif at 0x000001DC98FC0EA0>, 'svc__C': 10, 'svc__gamma': 'scale', 'svc__kernel': 'rbf', 'svc__max_iter': 10000, 'svc__tol': 0.0001}, {'selectkbest__k': 20, 'selectkbest__score_func': <function mutual_info_classif at 0x000001DC98FC0EA0>, 'svc__C': 100, 'svc__gamma': 'scale', 'svc__kernel': 'linear', 'svc__max_iter': 10000, 'svc__tol': 0.001}, {'selectkbest__k': 20, 'selectkbest__score_func': <function mutual_info_classif at 0x000001DC98FC0EA0>, 'svc__C': 100, 'svc__gamma': 'scale', 'svc__kernel': 'linear', 'svc__max_iter': 10000, 'svc__tol': 0.01}, {'selectkbest__k': 20, 'selectkbest__score_func': <function mutual_info_classif at 0x000001DC98FC0EA0>, 'svc__C': 100, 'svc__gamma': 'scale', 'svc__kernel': 'linear', 'svc__max_iter': 10000, 'svc__tol': 0.0001}, {'selectkbest__k': 20, 'selectkbest__score_func': <function mutual_info_classif at 0x000001DC98FC0EA0>, 'svc__C': 100, 'svc__gamma': 'scale', 'svc__kernel': 'rbf', 'svc__max_iter': 10000, 'svc__tol': 0.001}, {'selectkbest__k': 20, 'selectkbest__score_func': <function mutual_info_classif at 0x000001DC98FC0EA0>, 'svc__C': 100, 'svc__gamma': 'scale', 'svc__kernel': 'rbf', 'svc__max_iter': 10000, 'svc__tol': 0.01}, {'selectkbest__k': 20, 'selectkbest__score_func': <function mutual_info_classif at 0x000001DC98FC0EA0>, 'svc__C': 100, 'svc__gamma': 'scale', 'svc__kernel': 'rbf', 'svc__max_iter': 10000, 'svc__tol': 0.0001}, {'selectkbest__k': 20, 'selectkbest__score_func': <function f_classif at 0x000001DC98FC2980>, 'svc__C': 10, 'svc__gamma': 'scale', 'svc__kernel': 'linear', 'svc__max_iter': 10000, 'svc__tol': 0.001}, {'selectkbest__k': 20, 'selectkbest__score_func': <function f_classif at 0x000001DC98FC2980>, 'svc__C': 10, 'svc__gamma': 'scale', 'svc__kernel': 'linear', 'svc__max_iter': 10000, 'svc__tol': 0.01}, {'selectkbest__k': 20, 'selectkbest__score_func': <function f_classif at 0x000001DC98FC2980>, 'svc__C': 10, 'svc__gamma': 'scale', 'svc__kernel': 'linear', 'svc__max_iter': 10000, 'svc__tol': 0.0001}, {'selectkbest__k': 20, 'selectkbest__score_func': <function f_classif at 0x000001DC98FC2980>, 'svc__C': 10, 'svc__gamma': 'scale', 'svc__kernel': 'rbf', 'svc__max_iter': 10000, 'svc__tol': 0.001}, {'selectkbest__k': 20, 'selectkbest__score_func': <function f_classif at 0x000001DC98FC2980>, 'svc__C': 10, 'svc__gamma': 'scale', 'svc__kernel': 'rbf', 'svc__max_iter': 10000, 'svc__tol': 0.01}, {'selectkbest__k': 20, 'selectkbest__score_func': <function f_classif at 0x000001DC98FC2980>, 'svc__C': 10, 'svc__gamma': 'scale', 'svc__kernel': 'rbf', 'svc__max_iter': 10000, 'svc__tol': 0.0001}, {'selectkbest__k': 20, 'selectkbest__score_func': <function f_classif at 0x000001DC98FC2980>, 'svc__C': 100, 'svc__gamma': 'scale', 'svc__kernel': 'linear', 'svc__max_iter': 10000, 'svc__tol': 0.001}, {'selectkbest__k': 20, 'selectkbest__score_func': <function f_classif at 0x000001DC98FC2980>, 'svc__C': 100, 'svc__gamma': 'scale', 'svc__kernel': 'linear', 'svc__max_iter': 10000, 'svc__tol': 0.01}, {'selectkbest__k': 20, 'selectkbest__score_func': <function f_classif at 0x000001DC98FC2980>, 'svc__C': 100, 'svc__gamma': 'scale', 'svc__kernel': 'linear', 'svc__max_iter': 10000, 'svc__tol': 0.0001}, {'selectkbest__k': 20, 'selectkbest__score_func': <function f_classif at 0x000001DC98FC2980>, 'svc__C': 100, 'svc__gamma': 'scale', 'svc__kernel': 'rbf', 'svc__max_iter': 10000, 'svc__tol': 0.001}, {'selectkbest__k': 20, 'selectkbest__score_func': <function f_classif at 0x000001DC98FC2980>, 'svc__C': 100, 'svc__gamma': 'scale', 'svc__kernel': 'rbf', 'svc__max_iter': 10000, 'svc__tol': 0.01}, {'selectkbest__k': 20, 'selectkbest__score_func': <function f_classif at 0x000001DC98FC2980>, 'svc__C': 100, 'svc__gamma': 'scale', 'svc__kernel': 'rbf', 'svc__max_iter': 10000, 'svc__tol': 0.0001}, {'selectkbest__k': 30, 'selectkbest__score_func': <function mutual_info_classif at 0x000001DC98FC0EA0>, 'svc__C': 10, 'svc__gamma': 'scale', 'svc__kernel': 'linear', 'svc__max_iter': 10000, 'svc__tol': 0.001}, {'selectkbest__k': 30, 'selectkbest__score_func': <function mutual_info_classif at 0x000001DC98FC0EA0>, 'svc__C': 10, 'svc__gamma': 'scale', 'svc__kernel': 'linear', 'svc__max_iter': 10000, 'svc__tol': 0.01}, {'selectkbest__k': 30, 'selectkbest__score_func': <function mutual_info_classif at 0x000001DC98FC0EA0>, 'svc__C': 10, 'svc__gamma': 'scale', 'svc__kernel': 'linear', 'svc__max_iter': 10000, 'svc__tol': 0.0001}, {'selectkbest__k': 30, 'selectkbest__score_func': <function mutual_info_classif at 0x000001DC98FC0EA0>, 'svc__C': 10, 'svc__gamma': 'scale', 'svc__kernel': 'rbf', 'svc__max_iter': 10000, 'svc__tol': 0.001}, {'selectkbest__k': 30, 'selectkbest__score_func': <function mutual_info_classif at 0x000001DC98FC0EA0>, 'svc__C': 10, 'svc__gamma': 'scale', 'svc__kernel': 'rbf', 'svc__max_iter': 10000, 'svc__tol': 0.01}, {'selectkbest__k': 30, 'selectkbest__score_func': <function mutual_info_classif at 0x000001DC98FC0EA0>, 'svc__C': 10, 'svc__gamma': 'scale', 'svc__kernel': 'rbf', 'svc__max_iter': 10000, 'svc__tol': 0.0001}, {'selectkbest__k': 30, 'selectkbest__score_func': <function mutual_info_classif at 0x000001DC98FC0EA0>, 'svc__C': 100, 'svc__gamma': 'scale', 'svc__kernel': 'linear', 'svc__max_iter': 10000, 'svc__tol': 0.001}, {'selectkbest__k': 30, 'selectkbest__score_func': <function mutual_info_classif at 0x000001DC98FC0EA0>, 'svc__C': 100, 'svc__gamma': 'scale', 'svc__kernel': 'linear', 'svc__max_iter': 10000, 'svc__tol': 0.01}, {'selectkbest__k': 30, 'selectkbest__score_func': <function mutual_info_classif at 0x000001DC98FC0EA0>, 'svc__C': 100, 'svc__gamma': 'scale', 'svc__kernel': 'linear', 'svc__max_iter': 10000, 'svc__tol': 0.0001}, {'selectkbest__k': 30, 'selectkbest__score_func': <function mutual_info_classif at 0x000001DC98FC0EA0>, 'svc__C': 100, 'svc__gamma': 'scale', 'svc__kernel': 'rbf', 'svc__max_iter': 10000, 'svc__tol': 0.001}, {'selectkbest__k': 30, 'selectkbest__score_func': <function mutual_info_classif at 0x000001DC98FC0EA0>, 'svc__C': 100, 'svc__gamma': 'scale', 'svc__kernel': 'rbf', 'svc__max_iter': 10000, 'svc__tol': 0.01}, {'selectkbest__k': 30, 'selectkbest__score_func': <function mutual_info_classif at 0x000001DC98FC0EA0>, 'svc__C': 100, 'svc__gamma': 'scale', 'svc__kernel': 'rbf', 'svc__max_iter': 10000, 'svc__tol': 0.0001}, {'selectkbest__k': 30, 'selectkbest__score_func': <function f_classif at 0x000001DC98FC2980>, 'svc__C': 10, 'svc__gamma': 'scale', 'svc__kernel': 'linear', 'svc__max_iter': 10000, 'svc__tol': 0.001}, {'selectkbest__k': 30, 'selectkbest__score_func': <function f_classif at 0x000001DC98FC2980>, 'svc__C': 10, 'svc__gamma': 'scale', 'svc__kernel': 'linear', 'svc__max_iter': 10000, 'svc__tol': 0.01}, {'selectkbest__k': 30, 'selectkbest__score_func': <function f_classif at 0x000001DC98FC2980>, 'svc__C': 10, 'svc__gamma': 'scale', 'svc__kernel': 'linear', 'svc__max_iter': 10000, 'svc__tol': 0.0001}, {'selectkbest__k': 30, 'selectkbest__score_func': <function f_classif at 0x000001DC98FC2980>, 'svc__C': 10, 'svc__gamma': 'scale', 'svc__kernel': 'rbf', 'svc__max_iter': 10000, 'svc__tol': 0.001}, {'selectkbest__k': 30, 'selectkbest__score_func': <function f_classif at 0x000001DC98FC2980>, 'svc__C': 10, 'svc__gamma': 'scale', 'svc__kernel': 'rbf', 'svc__max_iter': 10000, 'svc__tol': 0.01}, {'selectkbest__k': 30, 'selectkbest__score_func': <function f_classif at 0x000001DC98FC2980>, 'svc__C': 10, 'svc__gamma': 'scale', 'svc__kernel': 'rbf', 'svc__max_iter': 10000, 'svc__tol': 0.0001}, {'selectkbest__k': 30, 'selectkbest__score_func': <function f_classif at 0x000001DC98FC2980>, 'svc__C': 100, 'svc__gamma': 'scale', 'svc__kernel': 'linear', 'svc__max_iter': 10000, 'svc__tol': 0.001}, {'selectkbest__k': 30, 'selectkbest__score_func': <function f_classif at 0x000001DC98FC2980>, 'svc__C': 100, 'svc__gamma': 'scale', 'svc__kernel': 'linear', 'svc__max_iter': 10000, 'svc__tol': 0.01}, {'selectkbest__k': 30, 'selectkbest__score_func': <function f_classif at 0x000001DC98FC2980>, 'svc__C': 100, 'svc__gamma': 'scale', 'svc__kernel': 'linear', 'svc__max_iter': 10000, 'svc__tol': 0.0001}, {'selectkbest__k': 30, 'selectkbest__score_func': <function f_classif at 0x000001DC98FC2980>, 'svc__C': 100, 'svc__gamma': 'scale', 'svc__kernel': 'rbf', 'svc__max_iter': 10000, 'svc__tol': 0.001}, {'selectkbest__k': 30, 'selectkbest__score_func': <function f_classif at 0x000001DC98FC2980>, 'svc__C': 100, 'svc__gamma': 'scale', 'svc__kernel': 'rbf', 'svc__max_iter': 10000, 'svc__tol': 0.01}, {'selectkbest__k': 30, 'selectkbest__score_func': <function f_classif at 0x000001DC98FC2980>, 'svc__C': 100, 'svc__gamma': 'scale', 'svc__kernel': 'rbf', 'svc__max_iter': 10000, 'svc__tol': 0.0001}, {'selectkbest__k': 40, 'selectkbest__score_func': <function mutual_info_classif at 0x000001DC98FC0EA0>, 'svc__C': 10, 'svc__gamma': 'scale', 'svc__kernel': 'linear', 'svc__max_iter': 10000, 'svc__tol': 0.001}, {'selectkbest__k': 40, 'selectkbest__score_func': <function mutual_info_classif at 0x000001DC98FC0EA0>, 'svc__C': 10, 'svc__gamma': 'scale', 'svc__kernel': 'linear', 'svc__max_iter': 10000, 'svc__tol': 0.01}, {'selectkbest__k': 40, 'selectkbest__score_func': <function mutual_info_classif at 0x000001DC98FC0EA0>, 'svc__C': 10, 'svc__gamma': 'scale', 'svc__kernel': 'linear', 'svc__max_iter': 10000, 'svc__tol': 0.0001}, {'selectkbest__k': 40, 'selectkbest__score_func': <function mutual_info_classif at 0x000001DC98FC0EA0>, 'svc__C': 10, 'svc__gamma': 'scale', 'svc__kernel': 'rbf', 'svc__max_iter': 10000, 'svc__tol': 0.001}, {'selectkbest__k': 40, 'selectkbest__score_func': <function mutual_info_classif at 0x000001DC98FC0EA0>, 'svc__C': 10, 'svc__gamma': 'scale', 'svc__kernel': 'rbf', 'svc__max_iter': 10000, 'svc__tol': 0.01}, {'selectkbest__k': 40, 'selectkbest__score_func': <function mutual_info_classif at 0x000001DC98FC0EA0>, 'svc__C': 10, 'svc__gamma': 'scale', 'svc__kernel': 'rbf', 'svc__max_iter': 10000, 'svc__tol': 0.0001}, {'selectkbest__k': 40, 'selectkbest__score_func': <function mutual_info_classif at 0x000001DC98FC0EA0>, 'svc__C': 100, 'svc__gamma': 'scale', 'svc__kernel': 'linear', 'svc__max_iter': 10000, 'svc__tol': 0.001}, {'selectkbest__k': 40, 'selectkbest__score_func': <function mutual_info_classif at 0x000001DC98FC0EA0>, 'svc__C': 100, 'svc__gamma': 'scale', 'svc__kernel': 'linear', 'svc__max_iter': 10000, 'svc__tol': 0.01}, {'selectkbest__k': 40, 'selectkbest__score_func': <function mutual_info_classif at 0x000001DC98FC0EA0>, 'svc__C': 100, 'svc__gamma': 'scale', 'svc__kernel': 'linear', 'svc__max_iter': 10000, 'svc__tol': 0.0001}, {'selectkbest__k': 40, 'selectkbest__score_func': <function mutual_info_classif at 0x000001DC98FC0EA0>, 'svc__C': 100, 'svc__gamma': 'scale', 'svc__kernel': 'rbf', 'svc__max_iter': 10000, 'svc__tol': 0.001}, {'selectkbest__k': 40, 'selectkbest__score_func': <function mutual_info_classif at 0x000001DC98FC0EA0>, 'svc__C': 100, 'svc__gamma': 'scale', 'svc__kernel': 'rbf', 'svc__max_iter': 10000, 'svc__tol': 0.01}, {'selectkbest__k': 40, 'selectkbest__score_func': <function mutual_info_classif at 0x000001DC98FC0EA0>, 'svc__C': 100, 'svc__gamma': 'scale', 'svc__kernel': 'rbf', 'svc__max_iter': 10000, 'svc__tol': 0.0001}, {'selectkbest__k': 40, 'selectkbest__score_func': <function f_classif at 0x000001DC98FC2980>, 'svc__C': 10, 'svc__gamma': 'scale', 'svc__kernel': 'linear', 'svc__max_iter': 10000, 'svc__tol': 0.001}, {'selectkbest__k': 40, 'selectkbest__score_func': <function f_classif at 0x000001DC98FC2980>, 'svc__C': 10, 'svc__gamma': 'scale', 'svc__kernel': 'linear', 'svc__max_iter': 10000, 'svc__tol': 0.01}, {'selectkbest__k': 40, 'selectkbest__score_func': <function f_classif at 0x000001DC98FC2980>, 'svc__C': 10, 'svc__gamma': 'scale', 'svc__kernel': 'linear', 'svc__max_iter': 10000, 'svc__tol': 0.0001}, {'selectkbest__k': 40, 'selectkbest__score_func': <function f_classif at 0x000001DC98FC2980>, 'svc__C': 10, 'svc__gamma': 'scale', 'svc__kernel': 'rbf', 'svc__max_iter': 10000, 'svc__tol': 0.001}, {'selectkbest__k': 40, 'selectkbest__score_func': <function f_classif at 0x000001DC98FC2980>, 'svc__C': 10, 'svc__gamma': 'scale', 'svc__kernel': 'rbf', 'svc__max_iter': 10000, 'svc__tol': 0.01}, {'selectkbest__k': 40, 'selectkbest__score_func': <function f_classif at 0x000001DC98FC2980>, 'svc__C': 10, 'svc__gamma': 'scale', 'svc__kernel': 'rbf', 'svc__max_iter': 10000, 'svc__tol': 0.0001}, {'selectkbest__k': 40, 'selectkbest__score_func': <function f_classif at 0x000001DC98FC2980>, 'svc__C': 100, 'svc__gamma': 'scale', 'svc__kernel': 'linear', 'svc__max_iter': 10000, 'svc__tol': 0.001}, {'selectkbest__k': 40, 'selectkbest__score_func': <function f_classif at 0x000001DC98FC2980>, 'svc__C': 100, 'svc__gamma': 'scale', 'svc__kernel': 'linear', 'svc__max_iter': 10000, 'svc__tol': 0.01}, {'selectkbest__k': 40, 'selectkbest__score_func': <function f_classif at 0x000001DC98FC2980>, 'svc__C': 100, 'svc__gamma': 'scale', 'svc__kernel': 'linear', 'svc__max_iter': 10000, 'svc__tol': 0.0001}, {'selectkbest__k': 40, 'selectkbest__score_func': <function f_classif at 0x000001DC98FC2980>, 'svc__C': 100, 'svc__gamma': 'scale', 'svc__kernel': 'rbf', 'svc__max_iter': 10000, 'svc__tol': 0.001}, {'selectkbest__k': 40, 'selectkbest__score_func': <function f_classif at 0x000001DC98FC2980>, 'svc__C': 100, 'svc__gamma': 'scale', 'svc__kernel': 'rbf', 'svc__max_iter': 10000, 'svc__tol': 0.01}, {'selectkbest__k': 40, 'selectkbest__score_func': <function f_classif at 0x000001DC98FC2980>, 'svc__C': 100, 'svc__gamma': 'scale', 'svc__kernel': 'rbf', 'svc__max_iter': 10000, 'svc__tol': 0.0001}], 'split0_test_score': array([0.75980931, 0.76017602, 0.76054272, 0.7587092 , 0.75907591,\n",
            "       0.7583425 , 0.76164283, 0.75577558, 0.76200953, 0.75944261,\n",
            "       0.75137514, 0.76017602, 0.76090942, 0.75944261, 0.75980931,\n",
            "       0.76164283, 0.76164283, 0.76164283, 0.75944261, 0.75944261,\n",
            "       0.75944261, 0.76164283, 0.76164283, 0.76164283, 0.76054272,\n",
            "       0.76054272, 0.76054272, 0.76274294, 0.75980931, 0.75980931,\n",
            "       0.76054272, 0.76017602, 0.76054272, 0.74074074, 0.74660799,\n",
            "       0.75650898, 0.76090942, 0.75944261, 0.7587092 , 0.76054272,\n",
            "       0.76054272, 0.76054272, 0.75944261, 0.75944261, 0.75944261,\n",
            "       0.75577558, 0.75577558, 0.75577558, 0.76017602, 0.76090942,\n",
            "       0.76090942, 0.76017602, 0.76200953, 0.75980931, 0.74184085,\n",
            "       0.73120645, 0.75760909, 0.73707371, 0.74954162, 0.7477081 ,\n",
            "       0.76237624, 0.76200953, 0.76237624, 0.75980931, 0.75944261,\n",
            "       0.75980931, 0.74000733, 0.74000733, 0.74000733, 0.75210854,\n",
            "       0.75247525, 0.75210854]), 'split1_test_score': array([0.76054272, 0.76090942, 0.76054272, 0.76090942, 0.76127613,\n",
            "       0.76090942, 0.76164283, 0.76054272, 0.76164283, 0.76090942,\n",
            "       0.76017602, 0.7583425 , 0.76054272, 0.76054272, 0.76054272,\n",
            "       0.76200953, 0.76200953, 0.76200953, 0.76164283, 0.76164283,\n",
            "       0.76164283, 0.75944261, 0.75944261, 0.75944261, 0.76274294,\n",
            "       0.76237624, 0.76090942, 0.76457646, 0.75980931, 0.75980931,\n",
            "       0.76274294, 0.76054272, 0.76164283, 0.7587092 , 0.75944261,\n",
            "       0.76054272, 0.76237624, 0.76237624, 0.76237624, 0.76127613,\n",
            "       0.76127613, 0.76127613, 0.76200953, 0.76200953, 0.76200953,\n",
            "       0.75504217, 0.75504217, 0.75504217, 0.76274294, 0.76054272,\n",
            "       0.76054272, 0.76237624, 0.76237624, 0.76347635, 0.76200953,\n",
            "       0.74844151, 0.75320865, 0.75467547, 0.75064173, 0.75394206,\n",
            "       0.76200953, 0.76200953, 0.76200953, 0.76127613, 0.76127613,\n",
            "       0.76127613, 0.72717272, 0.72717272, 0.72717272, 0.75650898,\n",
            "       0.75650898, 0.75650898]), 'split2_test_score': array([0.75980931, 0.75907591, 0.76017602, 0.76090942, 0.76017602,\n",
            "       0.76090942, 0.76090942, 0.76200953, 0.75980931, 0.75724239,\n",
            "       0.75980931, 0.75577558, 0.76017602, 0.76017602, 0.75907591,\n",
            "       0.76127613, 0.76127613, 0.76127613, 0.7587092 , 0.7587092 ,\n",
            "       0.7587092 , 0.75760909, 0.75724239, 0.75760909, 0.76054272,\n",
            "       0.76200953, 0.76200953, 0.76054272, 0.76164283, 0.76017602,\n",
            "       0.76054272, 0.74844151, 0.76017602, 0.73707371, 0.74257426,\n",
            "       0.75430876, 0.7587092 , 0.76017602, 0.7587092 , 0.76017602,\n",
            "       0.76017602, 0.76017602, 0.75944261, 0.75944261, 0.75944261,\n",
            "       0.75284195, 0.75284195, 0.75284195, 0.7587092 , 0.75944261,\n",
            "       0.76017602, 0.76127613, 0.75980931, 0.76274294, 0.76054272,\n",
            "       0.75980931, 0.75907591, 0.74954162, 0.75394206, 0.75504217,\n",
            "       0.76054272, 0.7579758 , 0.76054272, 0.75907591, 0.75907591,\n",
            "       0.75907591, 0.7587092 , 0.7587092 , 0.7587092 , 0.74880821,\n",
            "       0.74880821, 0.74880821]), 'split3_test_score': array([0.76200953, 0.76054272, 0.76054272, 0.75980931, 0.75724239,\n",
            "       0.75980931, 0.75760909, 0.76347635, 0.76237624, 0.75430876,\n",
            "       0.75650898, 0.75504217, 0.76054272, 0.76017602, 0.76054272,\n",
            "       0.76017602, 0.76017602, 0.76017602, 0.76237624, 0.76237624,\n",
            "       0.76237624, 0.7587092 , 0.75907591, 0.7587092 , 0.76090942,\n",
            "       0.76090942, 0.76090942, 0.75907591, 0.76127613, 0.7587092 ,\n",
            "       0.75504217, 0.75320865, 0.75944261, 0.75650898, 0.75687569,\n",
            "       0.74000733, 0.76017602, 0.76017602, 0.76017602, 0.75907591,\n",
            "       0.75907591, 0.75907591, 0.75577558, 0.75577558, 0.75577558,\n",
            "       0.75724239, 0.75760909, 0.75724239, 0.76090942, 0.76090942,\n",
            "       0.76017602, 0.75944261, 0.76090942, 0.7587092 , 0.71727173,\n",
            "       0.75724239, 0.76200953, 0.74917492, 0.74587459, 0.72863953,\n",
            "       0.76127613, 0.76127613, 0.76127613, 0.75907591, 0.75907591,\n",
            "       0.75907591, 0.71360469, 0.71360469, 0.71360469, 0.75614228,\n",
            "       0.75614228, 0.75614228]), 'split4_test_score': array([0.76045488, 0.76375642, 0.7644901 , 0.75715334, 0.76045488,\n",
            "       0.76082172, 0.75935437, 0.76155539, 0.76082172, 0.75605282,\n",
            "       0.75421864, 0.76045488, 0.76338958, 0.76338958, 0.76338958,\n",
            "       0.76008804, 0.76008804, 0.76008804, 0.75862069, 0.75862069,\n",
            "       0.75862069, 0.75788701, 0.75788701, 0.75788701, 0.76045488,\n",
            "       0.76338958, 0.76045488, 0.76118855, 0.76008804, 0.76082172,\n",
            "       0.7597212 , 0.75641966, 0.7597212 , 0.75788701, 0.75568599,\n",
            "       0.75165077, 0.76338958, 0.76375642, 0.76338958, 0.75825385,\n",
            "       0.75825385, 0.75825385, 0.76118855, 0.76118855, 0.76118855,\n",
            "       0.76155539, 0.76155539, 0.76155539, 0.76045488, 0.76155539,\n",
            "       0.76338958, 0.75752018, 0.76045488, 0.7644901 , 0.75788701,\n",
            "       0.75605282, 0.75935437, 0.74908291, 0.75055026, 0.74578136,\n",
            "       0.7644901 , 0.7644901 , 0.7644901 , 0.75898753, 0.75862069,\n",
            "       0.75898753, 0.75055026, 0.75055026, 0.75055026, 0.75495231,\n",
            "       0.75495231, 0.75495231]), 'mean_test_score': array([0.76052515, 0.7608921 , 0.76125886, 0.75949814, 0.75964506,\n",
            "       0.76015848, 0.76023171, 0.76067191, 0.76133193, 0.7575912 ,\n",
            "       0.75641762, 0.75795823, 0.76111209, 0.76074539, 0.76067205,\n",
            "       0.76103851, 0.76103851, 0.76103851, 0.76015831, 0.76015831,\n",
            "       0.76015831, 0.75905815, 0.75905815, 0.75905815, 0.76103854,\n",
            "       0.7618455 , 0.7609652 , 0.76162532, 0.76052513, 0.75986511,\n",
            "       0.75971835, 0.75575771, 0.76030508, 0.75018393, 0.75223731,\n",
            "       0.75260371, 0.76111209, 0.76118546, 0.76067205, 0.75986493,\n",
            "       0.75986493, 0.75986493, 0.75957178, 0.75957178, 0.75957178,\n",
            "       0.7564915 , 0.75656484, 0.7564915 , 0.76059849, 0.76067191,\n",
            "       0.76103875, 0.76015823, 0.76111188, 0.76184558, 0.74791037,\n",
            "       0.7505505 , 0.75825151, 0.74790972, 0.75011005, 0.74622265,\n",
            "       0.76213894, 0.76155222, 0.76213894, 0.75964496, 0.75949825,\n",
            "       0.75964496, 0.73800884, 0.73800884, 0.73800884, 0.75370407,\n",
            "       0.75377741, 0.75370407]), 'std_test_score': array([0.00080417, 0.00155808, 0.00162185, 0.00142834, 0.00139247,\n",
            "       0.00099874, 0.00155497, 0.00262394, 0.00091925, 0.00235376,\n",
            "       0.00334364, 0.00221661, 0.00116212, 0.00136956, 0.00146359,\n",
            "       0.00077612, 0.00077612, 0.00077612, 0.0015556 , 0.0015556 ,\n",
            "       0.0015556 , 0.00144371, 0.00151639, 0.00144371, 0.00086649,\n",
            "       0.00102628, 0.00055422, 0.00188789, 0.00077834, 0.00068616,\n",
            "       0.00254456, 0.00453609, 0.00076779, 0.00930673, 0.00648673,\n",
            "       0.00693921, 0.00164172, 0.00161884, 0.00191002, 0.00107385,\n",
            "       0.00107385, 0.00107385, 0.00214481, 0.00214481, 0.00214481,\n",
            "       0.00290307, 0.00292566, 0.00290307, 0.00130107, 0.00069588,\n",
            "       0.00120647, 0.00165173, 0.00095642, 0.00221094, 0.01693199,\n",
            "       0.01038675, 0.0028935 , 0.00581093, 0.00258546, 0.00947566,\n",
            "       0.00133367, 0.00209363, 0.00133367, 0.00086805, 0.00092637,\n",
            "       0.00086805, 0.01614169, 0.01614169, 0.01614169, 0.00289433,\n",
            "       0.00285738, 0.00289433]), 'rank_test_score': array([26, 19,  8, 47, 40, 30, 29, 23,  7, 53, 57, 52, 10, 20, 21, 15, 15,\n",
            "       15, 31, 31, 31, 48, 48, 48, 14,  4, 18,  5, 27, 35, 39, 58, 28, 65,\n",
            "       63, 62, 10,  9, 21, 36, 36, 36, 43, 43, 43, 55, 54, 55, 25, 23, 13,\n",
            "       34, 12,  3, 67, 64, 51, 68, 66, 69,  1,  6,  1, 41, 46, 41, 70, 70,\n",
            "       70, 60, 59, 60]), 'split0_train_score': array([0.76070413, 0.76152929, 0.76061245, 0.7754653 , 0.77711561,\n",
            "       0.7725314 , 0.76116256, 0.7568534 , 0.76006235, 0.78380856,\n",
            "       0.80672962, 0.78270835, 0.76134592, 0.76042908, 0.76070413,\n",
            "       0.77033098, 0.77042266, 0.77033098, 0.76134592, 0.76134592,\n",
            "       0.76134592, 0.78747593, 0.78756762, 0.78747593, 0.76061245,\n",
            "       0.76052077, 0.76061245, 0.77473182, 0.78142477, 0.77876593,\n",
            "       0.7603374 , 0.75923719, 0.76079582, 0.84321995, 0.84367837,\n",
            "       0.80196204, 0.76162098, 0.76052077, 0.76052077, 0.77344824,\n",
            "       0.77344824, 0.77344824, 0.76042908, 0.76042908, 0.76042908,\n",
            "       0.80682131, 0.80682131, 0.80682131, 0.76217108, 0.76134592,\n",
            "       0.76345466, 0.77876593, 0.79646099, 0.79105162, 0.74190887,\n",
            "       0.73246539, 0.76070413, 0.8481709 , 0.8231411 , 0.83405153,\n",
            "       0.76290456, 0.76317961, 0.76290456, 0.78215825, 0.78215825,\n",
            "       0.78215825, 0.74300908, 0.74300908, 0.74300908, 0.82350784,\n",
            "       0.82359952, 0.82350784]), 'split1_train_score': array([0.76042908, 0.76052077, 0.76125424, 0.77243972, 0.77464014,\n",
            "       0.77216466, 0.7608875 , 0.76052077, 0.76134592, 0.78179151,\n",
            "       0.78793435, 0.79646099, 0.76070413, 0.76070413, 0.76070413,\n",
            "       0.77042266, 0.77042266, 0.77042266, 0.76134592, 0.76134592,\n",
            "       0.76134592, 0.78875951, 0.78875951, 0.78875951, 0.76180435,\n",
            "       0.76162098, 0.76079582, 0.78014119, 0.78105804, 0.78004951,\n",
            "       0.76006235, 0.76052077, 0.76070413, 0.80764647, 0.80141194,\n",
            "       0.79783625, 0.76198771, 0.76235445, 0.7620794 , 0.77766572,\n",
            "       0.77766572, 0.77766572, 0.76272119, 0.76272119, 0.76272119,\n",
            "       0.80205373, 0.80205373, 0.80205373, 0.76162098, 0.76052077,\n",
            "       0.76052077, 0.77757404, 0.78197488, 0.77794077, 0.75923719,\n",
            "       0.74539287, 0.75263592, 0.81012194, 0.84358669, 0.82873384,\n",
            "       0.76226277, 0.7620794 , 0.76226277, 0.78142477, 0.78142477,\n",
            "       0.78142477, 0.72613918, 0.72613918, 0.72613918, 0.82469973,\n",
            "       0.82469973, 0.82469973]), 'split2_train_score': array([0.76226277, 0.7620794 , 0.7620794 , 0.77088109, 0.77234803,\n",
            "       0.76978087, 0.76125424, 0.76107087, 0.76079582, 0.78142477,\n",
            "       0.78023288, 0.78408362, 0.76162098, 0.76171266, 0.76061245,\n",
            "       0.77060603, 0.77060603, 0.77060603, 0.75987898, 0.75987898,\n",
            "       0.75987898, 0.78912625, 0.78921793, 0.78912625, 0.76052077,\n",
            "       0.76171266, 0.76253782, 0.77409003, 0.77940772, 0.77473182,\n",
            "       0.7608875 , 0.74374255, 0.76107087, 0.85257174, 0.84496195,\n",
            "       0.79719446, 0.76061245, 0.76180435, 0.76061245, 0.77436509,\n",
            "       0.77454846, 0.77436509, 0.7608875 , 0.7608875 , 0.7608875 ,\n",
            "       0.81204731, 0.81204731, 0.81204731, 0.7608875 , 0.76143761,\n",
            "       0.76116256, 0.77794077, 0.77647382, 0.79297699, 0.76125424,\n",
            "       0.7608875 , 0.75978729, 0.84303658, 0.8318511 , 0.82405794,\n",
            "       0.76116256, 0.7608875 , 0.76097919, 0.77839919, 0.77839919,\n",
            "       0.77839919, 0.76024571, 0.76024571, 0.76024571, 0.84358669,\n",
            "       0.84358669, 0.84358669]), 'split3_train_score': array([0.76198771, 0.76052077, 0.7608875 , 0.77298982, 0.77289814,\n",
            "       0.77271477, 0.7608875 , 0.76162098, 0.76015403, 0.78527551,\n",
            "       0.78344183, 0.79957825, 0.76070413, 0.76180435, 0.76070413,\n",
            "       0.77143119, 0.77152288, 0.77143119, 0.75951224, 0.75951224,\n",
            "       0.75951224, 0.78665077, 0.78665077, 0.78665077, 0.76125424,\n",
            "       0.76189603, 0.76134592, 0.77454846, 0.77537361, 0.77904098,\n",
            "       0.75868708, 0.75373613, 0.76097919, 0.80022004, 0.80562941,\n",
            "       0.84432016, 0.76162098, 0.76162098, 0.76162098, 0.77500688,\n",
            "       0.77491519, 0.77500688, 0.75758687, 0.75758687, 0.75758687,\n",
            "       0.80984689, 0.8097552 , 0.80984689, 0.76327129, 0.76107087,\n",
            "       0.76299624, 0.77830751, 0.77794077, 0.77858256, 0.72595581,\n",
            "       0.76024571, 0.75997066, 0.81479784, 0.82772531, 0.89107912,\n",
            "       0.76308793, 0.76317961, 0.76308793, 0.78206656, 0.78197488,\n",
            "       0.78206656, 0.72448886, 0.72448886, 0.72448886, 0.82561658,\n",
            "       0.82561658, 0.82561658]), 'split4_train_score': array([0.76054272, 0.76109278, 0.76219289, 0.77108544, 0.77081041,\n",
            "       0.77053539, 0.75852585, 0.7610011 , 0.76118445, 0.7996883 ,\n",
            "       0.7993216 , 0.78511184, 0.76090942, 0.76081775, 0.76109278,\n",
            "       0.77071874, 0.77062706, 0.77071874, 0.76054272, 0.76054272,\n",
            "       0.76054272, 0.78905391, 0.78905391, 0.78905391, 0.76054272,\n",
            "       0.7606344 , 0.76054272, 0.78006967, 0.77456912, 0.7769527 ,\n",
            "       0.76054272, 0.75889256, 0.76008434, 0.80005501, 0.79950495,\n",
            "       0.79904657, 0.76109278, 0.76145948, 0.76109278, 0.77356069,\n",
            "       0.77356069, 0.77356069, 0.7606344 , 0.7606344 , 0.7606344 ,\n",
            "       0.80656399, 0.80656399, 0.80656399, 0.76072607, 0.76237624,\n",
            "       0.76090942, 0.78043638, 0.78447011, 0.79079575, 0.75733407,\n",
            "       0.75540887, 0.75990099, 0.80958929, 0.83113311, 0.84460946,\n",
            "       0.76255959, 0.76255959, 0.76255959, 0.78107811, 0.78126146,\n",
            "       0.78107811, 0.74981665, 0.74981665, 0.74981665, 0.82581591,\n",
            "       0.82581591, 0.82581591]), 'mean_train_score': array([0.76118528, 0.7611486 , 0.7614053 , 0.77257227, 0.77356247,\n",
            "       0.77154542, 0.76054353, 0.76021342, 0.76070851, 0.78639773,\n",
            "       0.79153206, 0.78958861, 0.76105692, 0.76109359, 0.76076353,\n",
            "       0.77070192, 0.77072026, 0.77070192, 0.76052516, 0.76052516,\n",
            "       0.76052516, 0.78821327, 0.78824995, 0.78821327, 0.7609469 ,\n",
            "       0.76127697, 0.76116695, 0.77671624, 0.77836665, 0.77790819,\n",
            "       0.76010341, 0.75522584, 0.76072687, 0.82074264, 0.81903732,\n",
            "       0.8080719 , 0.76138698, 0.761552  , 0.76118527, 0.77480932,\n",
            "       0.77482766, 0.77480932, 0.76045181, 0.76045181, 0.76045181,\n",
            "       0.80746664, 0.80744831, 0.80746664, 0.76173539, 0.76135028,\n",
            "       0.76180873, 0.77860492, 0.78346412, 0.78626954, 0.74913803,\n",
            "       0.75088007, 0.7585998 , 0.82514331, 0.83148746, 0.84450638,\n",
            "       0.76239548, 0.76237714, 0.76235881, 0.78102538, 0.78104371,\n",
            "       0.78102538, 0.7407399 , 0.7407399 , 0.7407399 , 0.82864535,\n",
            "       0.82866369, 0.82864535]), 'std_train_score': array([0.00077732, 0.00060046, 0.00063154, 0.0016512 , 0.0021576 ,\n",
            "       0.00117105, 0.00101941, 0.00171587, 0.00052257, 0.00679043,\n",
            "       0.00997707, 0.00699581, 0.0003667 , 0.00055817, 0.00016841,\n",
            "       0.00038907, 0.00041062, 0.00038907, 0.00074715, 0.00074715,\n",
            "       0.00074715, 0.00098221, 0.0009865 , 0.00098221, 0.00050724,\n",
            "       0.00057899, 0.00074111, 0.00277525, 0.00286562, 0.00187651,\n",
            "       0.00075766, 0.00619124, 0.00034644, 0.02253436, 0.02074226,\n",
            "       0.01819786, 0.00048101, 0.00059739, 0.00059457, 0.00153668,\n",
            "       0.00152632, 0.00153668, 0.00164813, 0.00164813, 0.00164813,\n",
            "       0.00338168, 0.00336895, 0.00338168, 0.00092731, 0.00060438,\n",
            "       0.00118359, 0.00099724, 0.00709253, 0.00658487, 0.01345843,\n",
            "       0.01074787, 0.00299929, 0.01688216, 0.00678918, 0.02427034,\n",
            "       0.00067872, 0.00085192, 0.00074597, 0.00137307, 0.00136348,\n",
            "       0.00137307, 0.01374984, 0.01374984, 0.01374984, 0.00751511,\n",
            "       0.00750266, 0.00751511])}\n"
          ]
        },
        {
          "name": "stderr",
          "output_type": "stream",
          "text": [
            "c:\\Users\\vagad\\Downloads\\ml\\venv\\Lib\\site-packages\\sklearn\\svm\\_base.py:297: ConvergenceWarning: Solver terminated early (max_iter=10000).  Consider pre-processing your data with StandardScaler or MinMaxScaler.\n",
            "  warnings.warn(\n"
          ]
        }
      ],
      "source": [
        "svc_clf.fit(X1,y1)\n",
        "print(\"Best parameters: \", svc_clf.best_params_)\n",
        "print(\"Best score: \", svc_clf.best_score_)\n",
        "print(\"Mean test scores: \", svc_clf.cv_results_['mean_test_score'])\n",
        "print(\"Mean train scores: \", svc_clf.cv_results_['mean_train_score'])\n",
        "print(\"Results: \",svc_clf.cv_results_)\n",
        "\n",
        "#rbf overfitting... linear can't cross 0.7625 but doens't overfit"
      ]
    },
    {
      "cell_type": "markdown",
      "metadata": {
        "id": "2kGnRjV5JEBO"
      },
      "source": [
        "# Submit File Generation"
      ]
    },
    {
      "cell_type": "code",
      "execution_count": null,
      "metadata": {
        "colab": {
          "base_uri": "https://localhost:8080/",
          "height": 227
        },
        "execution": {
          "iopub.execute_input": "2024-04-05T04:50:14.628518Z",
          "iopub.status.busy": "2024-04-05T04:50:14.627365Z",
          "iopub.status.idle": "2024-04-05T04:50:14.705741Z",
          "shell.execute_reply": "2024-04-05T04:50:14.704727Z",
          "shell.execute_reply.started": "2024-04-05T04:50:14.628463Z"
        },
        "id": "3XVc9JSKn_ub",
        "outputId": "82d0f0df-3e08-4064-b5f8-42c320f31661",
        "trusted": true
      },
      "outputs": [
        {
          "data": {
            "text/html": [
              "<style>#sk-container-id-1 {color: black;background-color: white;}#sk-container-id-1 pre{padding: 0;}#sk-container-id-1 div.sk-toggleable {background-color: white;}#sk-container-id-1 label.sk-toggleable__label {cursor: pointer;display: block;width: 100%;margin-bottom: 0;padding: 0.3em;box-sizing: border-box;text-align: center;}#sk-container-id-1 label.sk-toggleable__label-arrow:before {content: \"▸\";float: left;margin-right: 0.25em;color: #696969;}#sk-container-id-1 label.sk-toggleable__label-arrow:hover:before {color: black;}#sk-container-id-1 div.sk-estimator:hover label.sk-toggleable__label-arrow:before {color: black;}#sk-container-id-1 div.sk-toggleable__content {max-height: 0;max-width: 0;overflow: hidden;text-align: left;background-color: #f0f8ff;}#sk-container-id-1 div.sk-toggleable__content pre {margin: 0.2em;color: black;border-radius: 0.25em;background-color: #f0f8ff;}#sk-container-id-1 input.sk-toggleable__control:checked~div.sk-toggleable__content {max-height: 200px;max-width: 100%;overflow: auto;}#sk-container-id-1 input.sk-toggleable__control:checked~label.sk-toggleable__label-arrow:before {content: \"▾\";}#sk-container-id-1 div.sk-estimator input.sk-toggleable__control:checked~label.sk-toggleable__label {background-color: #d4ebff;}#sk-container-id-1 div.sk-label input.sk-toggleable__control:checked~label.sk-toggleable__label {background-color: #d4ebff;}#sk-container-id-1 input.sk-hidden--visually {border: 0;clip: rect(1px 1px 1px 1px);clip: rect(1px, 1px, 1px, 1px);height: 1px;margin: -1px;overflow: hidden;padding: 0;position: absolute;width: 1px;}#sk-container-id-1 div.sk-estimator {font-family: monospace;background-color: #f0f8ff;border: 1px dotted black;border-radius: 0.25em;box-sizing: border-box;margin-bottom: 0.5em;}#sk-container-id-1 div.sk-estimator:hover {background-color: #d4ebff;}#sk-container-id-1 div.sk-parallel-item::after {content: \"\";width: 100%;border-bottom: 1px solid gray;flex-grow: 1;}#sk-container-id-1 div.sk-label:hover label.sk-toggleable__label {background-color: #d4ebff;}#sk-container-id-1 div.sk-serial::before {content: \"\";position: absolute;border-left: 1px solid gray;box-sizing: border-box;top: 0;bottom: 0;left: 50%;z-index: 0;}#sk-container-id-1 div.sk-serial {display: flex;flex-direction: column;align-items: center;background-color: white;padding-right: 0.2em;padding-left: 0.2em;position: relative;}#sk-container-id-1 div.sk-item {position: relative;z-index: 1;}#sk-container-id-1 div.sk-parallel {display: flex;align-items: stretch;justify-content: center;background-color: white;position: relative;}#sk-container-id-1 div.sk-item::before, #sk-container-id-1 div.sk-parallel-item::before {content: \"\";position: absolute;border-left: 1px solid gray;box-sizing: border-box;top: 0;bottom: 0;left: 50%;z-index: -1;}#sk-container-id-1 div.sk-parallel-item {display: flex;flex-direction: column;z-index: 1;position: relative;background-color: white;}#sk-container-id-1 div.sk-parallel-item:first-child::after {align-self: flex-end;width: 50%;}#sk-container-id-1 div.sk-parallel-item:last-child::after {align-self: flex-start;width: 50%;}#sk-container-id-1 div.sk-parallel-item:only-child::after {width: 0;}#sk-container-id-1 div.sk-dashed-wrapped {border: 1px dashed gray;margin: 0 0.4em 0.5em 0.4em;box-sizing: border-box;padding-bottom: 0.4em;background-color: white;}#sk-container-id-1 div.sk-label label {font-family: monospace;font-weight: bold;display: inline-block;line-height: 1.2em;}#sk-container-id-1 div.sk-label-container {text-align: center;}#sk-container-id-1 div.sk-container {/* jupyter's `normalize.less` sets `[hidden] { display: none; }` but bootstrap.min.css set `[hidden] { display: none !important; }` so we also need the `!important` here to be able to override the default hidden behavior on the sphinx rendered scikit-learn.org. See: https://github.com/scikit-learn/scikit-learn/issues/21755 */display: inline-block !important;position: relative;}#sk-container-id-1 div.sk-text-repr-fallback {display: none;}</style><div id=\"sk-container-id-1\" class=\"sk-top-container\"><div class=\"sk-text-repr-fallback\"><pre>Pipeline(steps=[(&#x27;columntransformer&#x27;,\n",
              "                 ColumnTransformer(n_jobs=-1, sparse_threshold=0,\n",
              "                                   transformers=[(&#x27;pipeline-1&#x27;,\n",
              "                                                  Pipeline(steps=[(&#x27;standardscaler&#x27;,\n",
              "                                                                   StandardScaler())]),\n",
              "                                                  [&#x27;UserReputation&#x27;]),\n",
              "                                                 (&#x27;pipeline-2&#x27;,\n",
              "                                                  Pipeline(steps=[(&#x27;standardscaler&#x27;,\n",
              "                                                                   StandardScaler())]),\n",
              "                                                  [&#x27;ReplyCount&#x27;]),\n",
              "                                                 (&#x27;pipeline-3&#x27;,\n",
              "                                                  Pipeline(steps=[(&#x27;standardscaler&#x27;,\n",
              "                                                                   StandardScaler())]),\n",
              "                                                  [&#x27;ThumbsUpCount&#x27;]),\n",
              "                                                 (&#x27;pipeline-4&#x27;,\n",
              "                                                  Pipeline(steps=[(&#x27;standardscaler&#x27;,\n",
              "                                                                   StandardScaler())]),\n",
              "                                                  [&#x27;ThumbsDownCount&#x27;]),\n",
              "                                                 (&#x27;tfidftransformer&#x27;,\n",
              "                                                  TfidfTransformer(),\n",
              "                                                  [&#x27;Recipe_Review&#x27;])],\n",
              "                                   verbose_feature_names_out=False)),\n",
              "                (&#x27;selectkbest&#x27;,\n",
              "                 SelectKBest(k=40,\n",
              "                             score_func=&lt;function mutual_info_classif at 0x7e57339c5090&gt;)),\n",
              "                (&#x27;kneighborsclassifier&#x27;, KNeighborsClassifier(n_neighbors=25))])</pre><b>In a Jupyter environment, please rerun this cell to show the HTML representation or trust the notebook. <br />On GitHub, the HTML representation is unable to render, please try loading this page with nbviewer.org.</b></div><div class=\"sk-container\" hidden><div class=\"sk-item sk-dashed-wrapped\"><div class=\"sk-label-container\"><div class=\"sk-label sk-toggleable\"><input class=\"sk-toggleable__control sk-hidden--visually\" id=\"sk-estimator-id-1\" type=\"checkbox\" ><label for=\"sk-estimator-id-1\" class=\"sk-toggleable__label sk-toggleable__label-arrow\">Pipeline</label><div class=\"sk-toggleable__content\"><pre>Pipeline(steps=[(&#x27;columntransformer&#x27;,\n",
              "                 ColumnTransformer(n_jobs=-1, sparse_threshold=0,\n",
              "                                   transformers=[(&#x27;pipeline-1&#x27;,\n",
              "                                                  Pipeline(steps=[(&#x27;standardscaler&#x27;,\n",
              "                                                                   StandardScaler())]),\n",
              "                                                  [&#x27;UserReputation&#x27;]),\n",
              "                                                 (&#x27;pipeline-2&#x27;,\n",
              "                                                  Pipeline(steps=[(&#x27;standardscaler&#x27;,\n",
              "                                                                   StandardScaler())]),\n",
              "                                                  [&#x27;ReplyCount&#x27;]),\n",
              "                                                 (&#x27;pipeline-3&#x27;,\n",
              "                                                  Pipeline(steps=[(&#x27;standardscaler&#x27;,\n",
              "                                                                   StandardScaler())]),\n",
              "                                                  [&#x27;ThumbsUpCount&#x27;]),\n",
              "                                                 (&#x27;pipeline-4&#x27;,\n",
              "                                                  Pipeline(steps=[(&#x27;standardscaler&#x27;,\n",
              "                                                                   StandardScaler())]),\n",
              "                                                  [&#x27;ThumbsDownCount&#x27;]),\n",
              "                                                 (&#x27;tfidftransformer&#x27;,\n",
              "                                                  TfidfTransformer(),\n",
              "                                                  [&#x27;Recipe_Review&#x27;])],\n",
              "                                   verbose_feature_names_out=False)),\n",
              "                (&#x27;selectkbest&#x27;,\n",
              "                 SelectKBest(k=40,\n",
              "                             score_func=&lt;function mutual_info_classif at 0x7e57339c5090&gt;)),\n",
              "                (&#x27;kneighborsclassifier&#x27;, KNeighborsClassifier(n_neighbors=25))])</pre></div></div></div><div class=\"sk-serial\"><div class=\"sk-item sk-dashed-wrapped\"><div class=\"sk-label-container\"><div class=\"sk-label sk-toggleable\"><input class=\"sk-toggleable__control sk-hidden--visually\" id=\"sk-estimator-id-2\" type=\"checkbox\" ><label for=\"sk-estimator-id-2\" class=\"sk-toggleable__label sk-toggleable__label-arrow\">columntransformer: ColumnTransformer</label><div class=\"sk-toggleable__content\"><pre>ColumnTransformer(n_jobs=-1, sparse_threshold=0,\n",
              "                  transformers=[(&#x27;pipeline-1&#x27;,\n",
              "                                 Pipeline(steps=[(&#x27;standardscaler&#x27;,\n",
              "                                                  StandardScaler())]),\n",
              "                                 [&#x27;UserReputation&#x27;]),\n",
              "                                (&#x27;pipeline-2&#x27;,\n",
              "                                 Pipeline(steps=[(&#x27;standardscaler&#x27;,\n",
              "                                                  StandardScaler())]),\n",
              "                                 [&#x27;ReplyCount&#x27;]),\n",
              "                                (&#x27;pipeline-3&#x27;,\n",
              "                                 Pipeline(steps=[(&#x27;standardscaler&#x27;,\n",
              "                                                  StandardScaler())]),\n",
              "                                 [&#x27;ThumbsUpCount&#x27;]),\n",
              "                                (&#x27;pipeline-4&#x27;,\n",
              "                                 Pipeline(steps=[(&#x27;standardscaler&#x27;,\n",
              "                                                  StandardScaler())]),\n",
              "                                 [&#x27;ThumbsDownCount&#x27;]),\n",
              "                                (&#x27;tfidftransformer&#x27;, TfidfTransformer(),\n",
              "                                 [&#x27;Recipe_Review&#x27;])],\n",
              "                  verbose_feature_names_out=False)</pre></div></div></div><div class=\"sk-parallel\"><div class=\"sk-parallel-item\"><div class=\"sk-item\"><div class=\"sk-label-container\"><div class=\"sk-label sk-toggleable\"><input class=\"sk-toggleable__control sk-hidden--visually\" id=\"sk-estimator-id-3\" type=\"checkbox\" ><label for=\"sk-estimator-id-3\" class=\"sk-toggleable__label sk-toggleable__label-arrow\">pipeline-1</label><div class=\"sk-toggleable__content\"><pre>[&#x27;UserReputation&#x27;]</pre></div></div></div><div class=\"sk-serial\"><div class=\"sk-item\"><div class=\"sk-serial\"><div class=\"sk-item\"><div class=\"sk-estimator sk-toggleable\"><input class=\"sk-toggleable__control sk-hidden--visually\" id=\"sk-estimator-id-4\" type=\"checkbox\" ><label for=\"sk-estimator-id-4\" class=\"sk-toggleable__label sk-toggleable__label-arrow\">StandardScaler</label><div class=\"sk-toggleable__content\"><pre>StandardScaler()</pre></div></div></div></div></div></div></div></div><div class=\"sk-parallel-item\"><div class=\"sk-item\"><div class=\"sk-label-container\"><div class=\"sk-label sk-toggleable\"><input class=\"sk-toggleable__control sk-hidden--visually\" id=\"sk-estimator-id-5\" type=\"checkbox\" ><label for=\"sk-estimator-id-5\" class=\"sk-toggleable__label sk-toggleable__label-arrow\">pipeline-2</label><div class=\"sk-toggleable__content\"><pre>[&#x27;ReplyCount&#x27;]</pre></div></div></div><div class=\"sk-serial\"><div class=\"sk-item\"><div class=\"sk-serial\"><div class=\"sk-item\"><div class=\"sk-estimator sk-toggleable\"><input class=\"sk-toggleable__control sk-hidden--visually\" id=\"sk-estimator-id-6\" type=\"checkbox\" ><label for=\"sk-estimator-id-6\" class=\"sk-toggleable__label sk-toggleable__label-arrow\">StandardScaler</label><div class=\"sk-toggleable__content\"><pre>StandardScaler()</pre></div></div></div></div></div></div></div></div><div class=\"sk-parallel-item\"><div class=\"sk-item\"><div class=\"sk-label-container\"><div class=\"sk-label sk-toggleable\"><input class=\"sk-toggleable__control sk-hidden--visually\" id=\"sk-estimator-id-7\" type=\"checkbox\" ><label for=\"sk-estimator-id-7\" class=\"sk-toggleable__label sk-toggleable__label-arrow\">pipeline-3</label><div class=\"sk-toggleable__content\"><pre>[&#x27;ThumbsUpCount&#x27;]</pre></div></div></div><div class=\"sk-serial\"><div class=\"sk-item\"><div class=\"sk-serial\"><div class=\"sk-item\"><div class=\"sk-estimator sk-toggleable\"><input class=\"sk-toggleable__control sk-hidden--visually\" id=\"sk-estimator-id-8\" type=\"checkbox\" ><label for=\"sk-estimator-id-8\" class=\"sk-toggleable__label sk-toggleable__label-arrow\">StandardScaler</label><div class=\"sk-toggleable__content\"><pre>StandardScaler()</pre></div></div></div></div></div></div></div></div><div class=\"sk-parallel-item\"><div class=\"sk-item\"><div class=\"sk-label-container\"><div class=\"sk-label sk-toggleable\"><input class=\"sk-toggleable__control sk-hidden--visually\" id=\"sk-estimator-id-9\" type=\"checkbox\" ><label for=\"sk-estimator-id-9\" class=\"sk-toggleable__label sk-toggleable__label-arrow\">pipeline-4</label><div class=\"sk-toggleable__content\"><pre>[&#x27;ThumbsDownCount&#x27;]</pre></div></div></div><div class=\"sk-serial\"><div class=\"sk-item\"><div class=\"sk-serial\"><div class=\"sk-item\"><div class=\"sk-estimator sk-toggleable\"><input class=\"sk-toggleable__control sk-hidden--visually\" id=\"sk-estimator-id-10\" type=\"checkbox\" ><label for=\"sk-estimator-id-10\" class=\"sk-toggleable__label sk-toggleable__label-arrow\">StandardScaler</label><div class=\"sk-toggleable__content\"><pre>StandardScaler()</pre></div></div></div></div></div></div></div></div><div class=\"sk-parallel-item\"><div class=\"sk-item\"><div class=\"sk-label-container\"><div class=\"sk-label sk-toggleable\"><input class=\"sk-toggleable__control sk-hidden--visually\" id=\"sk-estimator-id-11\" type=\"checkbox\" ><label for=\"sk-estimator-id-11\" class=\"sk-toggleable__label sk-toggleable__label-arrow\">tfidftransformer</label><div class=\"sk-toggleable__content\"><pre>[&#x27;Recipe_Review&#x27;]</pre></div></div></div><div class=\"sk-serial\"><div class=\"sk-item\"><div class=\"sk-estimator sk-toggleable\"><input class=\"sk-toggleable__control sk-hidden--visually\" id=\"sk-estimator-id-12\" type=\"checkbox\" ><label for=\"sk-estimator-id-12\" class=\"sk-toggleable__label sk-toggleable__label-arrow\">TfidfTransformer</label><div class=\"sk-toggleable__content\"><pre>TfidfTransformer()</pre></div></div></div></div></div></div></div></div><div class=\"sk-item\"><div class=\"sk-estimator sk-toggleable\"><input class=\"sk-toggleable__control sk-hidden--visually\" id=\"sk-estimator-id-13\" type=\"checkbox\" ><label for=\"sk-estimator-id-13\" class=\"sk-toggleable__label sk-toggleable__label-arrow\">SelectKBest</label><div class=\"sk-toggleable__content\"><pre>SelectKBest(k=40, score_func=&lt;function mutual_info_classif at 0x7e57339c5090&gt;)</pre></div></div></div><div class=\"sk-item\"><div class=\"sk-estimator sk-toggleable\"><input class=\"sk-toggleable__control sk-hidden--visually\" id=\"sk-estimator-id-14\" type=\"checkbox\" ><label for=\"sk-estimator-id-14\" class=\"sk-toggleable__label sk-toggleable__label-arrow\">KNeighborsClassifier</label><div class=\"sk-toggleable__content\"><pre>KNeighborsClassifier(n_neighbors=25)</pre></div></div></div></div></div></div></div>"
            ],
            "text/plain": [
              "Pipeline(steps=[('columntransformer',\n",
              "                 ColumnTransformer(n_jobs=-1, sparse_threshold=0,\n",
              "                                   transformers=[('pipeline-1',\n",
              "                                                  Pipeline(steps=[('standardscaler',\n",
              "                                                                   StandardScaler())]),\n",
              "                                                  ['UserReputation']),\n",
              "                                                 ('pipeline-2',\n",
              "                                                  Pipeline(steps=[('standardscaler',\n",
              "                                                                   StandardScaler())]),\n",
              "                                                  ['ReplyCount']),\n",
              "                                                 ('pipeline-3',\n",
              "                                                  Pipeline(steps=[('standardscaler',\n",
              "                                                                   StandardScaler())]),\n",
              "                                                  ['ThumbsUpCount']),\n",
              "                                                 ('pipeline-4',\n",
              "                                                  Pipeline(steps=[('standardscaler',\n",
              "                                                                   StandardScaler())]),\n",
              "                                                  ['ThumbsDownCount']),\n",
              "                                                 ('tfidftransformer',\n",
              "                                                  TfidfTransformer(),\n",
              "                                                  ['Recipe_Review'])],\n",
              "                                   verbose_feature_names_out=False)),\n",
              "                ('selectkbest',\n",
              "                 SelectKBest(k=40,\n",
              "                             score_func=<function mutual_info_classif at 0x7e57339c5090>)),\n",
              "                ('kneighborsclassifier', KNeighborsClassifier(n_neighbors=25))])"
            ]
          },
          "execution_count": 14,
          "metadata": {},
          "output_type": "execute_result"
        }
      ],
      "source": [
        "clf.best_estimator_"
      ]
    },
    {
      "cell_type": "code",
      "execution_count": null,
      "metadata": {
        "execution": {
          "iopub.execute_input": "2024-04-07T18:50:25.543228Z",
          "iopub.status.busy": "2024-04-07T18:50:25.54282Z",
          "iopub.status.idle": "2024-04-07T18:50:30.02799Z",
          "shell.execute_reply": "2024-04-07T18:50:30.026572Z",
          "shell.execute_reply.started": "2024-04-07T18:50:25.543171Z"
        },
        "id": "YOGPD0blvJpv",
        "trusted": true
      },
      "outputs": [],
      "source": [
        "# Preprocess the test data\n",
        "X1_test = X_test.copy(deep=True)\n",
        "X1_test['Recipe_Review'] = replace_patterns(X_test['Recipe_Review'])\n",
        "\n",
        "# When you call clf.predict(X1_test), it will apply only the transform methods of the pipeline components to the preprocessed test data X1_test. It will not call the fit methods again.\n",
        "#The estimator pipeline has already been trained on the entire X_train by gridsearch\n",
        "# best_estimator_ basically contains the entire pipeline which you passed to Gridsearchcv fitted on the entire X you passed it\n",
        "\n",
        "predictions = clf.best_estimator_.predict(X1_test)"
      ]
    },
    {
      "cell_type": "code",
      "execution_count": null,
      "metadata": {
        "execution": {
          "iopub.execute_input": "2024-04-07T18:50:34.202814Z",
          "iopub.status.busy": "2024-04-07T18:50:34.201803Z",
          "iopub.status.idle": "2024-04-07T18:50:34.22296Z",
          "shell.execute_reply": "2024-04-07T18:50:34.221818Z",
          "shell.execute_reply.started": "2024-04-07T18:50:34.202776Z"
        },
        "id": "-NRGmgn8JEBO",
        "trusted": true
      },
      "outputs": [],
      "source": [
        "# Save test predictions to file\n",
        "output = pd.DataFrame({'Rating': predictions},index=range(1,4547))\n",
        "output.to_csv('submission.csv', index_label=\"ID\")"
      ]
    },
    {
      "cell_type": "code",
      "execution_count": null,
      "metadata": {
        "id": "W936vmhtc4kf"
      },
      "outputs": [],
      "source": [
        "# with open('text.csv', 'w') as file:\n",
        "#     X2.Recipe_Review.to_csv(file, index=False, header=False)\n",
        "# with open('X1.csv', 'w') as file:\n",
        "    # X1.to_csv(file, index=False)"
      ]
    }
  ],
  "metadata": {
    "colab": {
      "collapsed_sections": [
        "ppv7cNoZJEBJ",
        "ZzuP1tsrTHlG"
      ],
      "provenance": []
    },
    "kaggle": {
      "accelerator": "none",
      "dataSources": [
        {
          "databundleVersionId": 7452256,
          "sourceId": 67079,
          "sourceType": "competition"
        },
        {
          "datasetId": 4748833,
          "sourceId": 8056944,
          "sourceType": "datasetVersion"
        }
      ],
      "dockerImageVersionId": 30635,
      "isGpuEnabled": false,
      "isInternetEnabled": true,
      "language": "python",
      "sourceType": "notebook"
    },
    "kernelspec": {
      "display_name": "Python 3",
      "language": "python",
      "name": "python3"
    },
    "language_info": {
      "codemirror_mode": {
        "name": "ipython",
        "version": 3
      },
      "file_extension": ".py",
      "mimetype": "text/x-python",
      "name": "python",
      "nbconvert_exporter": "python",
      "pygments_lexer": "ipython3",
      "version": "3.12.2"
    }
  },
  "nbformat": 4,
  "nbformat_minor": 0
}
